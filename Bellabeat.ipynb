{
 "cells": [
  {
   "cell_type": "code",
   "execution_count": 1,
   "id": "cba352df-77d0-4f85-ae97-f0c5eadad7a3",
   "metadata": {},
   "outputs": [],
   "source": [
    "#observing the daily activities of people who wear smart devices"
   ]
  },
  {
   "cell_type": "code",
   "execution_count": 2,
   "id": "dc6d6137-ad48-4638-bbb6-261716858409",
   "metadata": {},
   "outputs": [],
   "source": [
    "#import my libaries "
   ]
  },
  {
   "cell_type": "code",
   "execution_count": 3,
   "id": "7dc13144-8465-4568-a848-4ef910708d97",
   "metadata": {},
   "outputs": [],
   "source": [
    "import pandas as pd\n",
    "import numpy as np\n",
    "from pandas.api.types import CategoricalDtype\n",
    "import seaborn as sns \n",
    "from matplotlib import pyplot as plt\n",
    "%matplotlib inline"
   ]
  },
  {
   "cell_type": "code",
   "execution_count": 4,
   "id": "e33b1ca5-1abf-4212-9635-8954bd77302d",
   "metadata": {},
   "outputs": [],
   "source": [
    "df = pd.read_csv('dailyActivity_merged.csv')"
   ]
  },
  {
   "cell_type": "markdown",
   "id": "4ffd2e77-8090-430a-a299-09d74530560e",
   "metadata": {},
   "source": [
    "PREPARE THE DATA "
   ]
  },
  {
   "cell_type": "code",
   "execution_count": 6,
   "id": "004fbef6-90f8-478f-b992-c30eecb941a7",
   "metadata": {},
   "outputs": [
    {
     "data": {
      "text/plain": [
       "457"
      ]
     },
     "execution_count": 6,
     "metadata": {},
     "output_type": "execute_result"
    }
   ],
   "source": [
    "len(df)"
   ]
  },
  {
   "cell_type": "code",
   "execution_count": 7,
   "id": "c7dff34a-2312-4b86-a5e5-c214c6fa29c2",
   "metadata": {},
   "outputs": [
    {
     "data": {
      "text/html": [
       "<div>\n",
       "<style scoped>\n",
       "    .dataframe tbody tr th:only-of-type {\n",
       "        vertical-align: middle;\n",
       "    }\n",
       "\n",
       "    .dataframe tbody tr th {\n",
       "        vertical-align: top;\n",
       "    }\n",
       "\n",
       "    .dataframe thead th {\n",
       "        text-align: right;\n",
       "    }\n",
       "</style>\n",
       "<table border=\"1\" class=\"dataframe\">\n",
       "  <thead>\n",
       "    <tr style=\"text-align: right;\">\n",
       "      <th></th>\n",
       "      <th>Id</th>\n",
       "      <th>ActivityDate</th>\n",
       "      <th>TotalSteps</th>\n",
       "      <th>TotalDistance</th>\n",
       "      <th>TrackerDistance</th>\n",
       "      <th>LoggedActivitiesDistance</th>\n",
       "      <th>VeryActiveDistance</th>\n",
       "      <th>ModeratelyActiveDistance</th>\n",
       "      <th>LightActiveDistance</th>\n",
       "      <th>SedentaryActiveDistance</th>\n",
       "      <th>VeryActiveMinutes</th>\n",
       "      <th>FairlyActiveMinutes</th>\n",
       "      <th>LightlyActiveMinutes</th>\n",
       "      <th>SedentaryMinutes</th>\n",
       "      <th>Calories</th>\n",
       "    </tr>\n",
       "  </thead>\n",
       "  <tbody>\n",
       "    <tr>\n",
       "      <th>0</th>\n",
       "      <td>1503960366</td>\n",
       "      <td>3/25/2016</td>\n",
       "      <td>11004</td>\n",
       "      <td>7.11</td>\n",
       "      <td>7.11</td>\n",
       "      <td>0.0</td>\n",
       "      <td>2.57</td>\n",
       "      <td>0.46</td>\n",
       "      <td>4.07</td>\n",
       "      <td>0.0</td>\n",
       "      <td>33</td>\n",
       "      <td>12</td>\n",
       "      <td>205</td>\n",
       "      <td>804</td>\n",
       "      <td>1819</td>\n",
       "    </tr>\n",
       "    <tr>\n",
       "      <th>1</th>\n",
       "      <td>1503960366</td>\n",
       "      <td>3/26/2016</td>\n",
       "      <td>17609</td>\n",
       "      <td>11.55</td>\n",
       "      <td>11.55</td>\n",
       "      <td>0.0</td>\n",
       "      <td>6.92</td>\n",
       "      <td>0.73</td>\n",
       "      <td>3.91</td>\n",
       "      <td>0.0</td>\n",
       "      <td>89</td>\n",
       "      <td>17</td>\n",
       "      <td>274</td>\n",
       "      <td>588</td>\n",
       "      <td>2154</td>\n",
       "    </tr>\n",
       "    <tr>\n",
       "      <th>2</th>\n",
       "      <td>1503960366</td>\n",
       "      <td>3/27/2016</td>\n",
       "      <td>12736</td>\n",
       "      <td>8.53</td>\n",
       "      <td>8.53</td>\n",
       "      <td>0.0</td>\n",
       "      <td>4.66</td>\n",
       "      <td>0.16</td>\n",
       "      <td>3.71</td>\n",
       "      <td>0.0</td>\n",
       "      <td>56</td>\n",
       "      <td>5</td>\n",
       "      <td>268</td>\n",
       "      <td>605</td>\n",
       "      <td>1944</td>\n",
       "    </tr>\n",
       "    <tr>\n",
       "      <th>3</th>\n",
       "      <td>1503960366</td>\n",
       "      <td>3/28/2016</td>\n",
       "      <td>13231</td>\n",
       "      <td>8.93</td>\n",
       "      <td>8.93</td>\n",
       "      <td>0.0</td>\n",
       "      <td>3.19</td>\n",
       "      <td>0.79</td>\n",
       "      <td>4.95</td>\n",
       "      <td>0.0</td>\n",
       "      <td>39</td>\n",
       "      <td>20</td>\n",
       "      <td>224</td>\n",
       "      <td>1080</td>\n",
       "      <td>1932</td>\n",
       "    </tr>\n",
       "    <tr>\n",
       "      <th>4</th>\n",
       "      <td>1503960366</td>\n",
       "      <td>3/29/2016</td>\n",
       "      <td>12041</td>\n",
       "      <td>7.85</td>\n",
       "      <td>7.85</td>\n",
       "      <td>0.0</td>\n",
       "      <td>2.16</td>\n",
       "      <td>1.09</td>\n",
       "      <td>4.61</td>\n",
       "      <td>0.0</td>\n",
       "      <td>28</td>\n",
       "      <td>28</td>\n",
       "      <td>243</td>\n",
       "      <td>763</td>\n",
       "      <td>1886</td>\n",
       "    </tr>\n",
       "  </tbody>\n",
       "</table>\n",
       "</div>"
      ],
      "text/plain": [
       "           Id ActivityDate  TotalSteps  TotalDistance  TrackerDistance  \\\n",
       "0  1503960366    3/25/2016       11004           7.11             7.11   \n",
       "1  1503960366    3/26/2016       17609          11.55            11.55   \n",
       "2  1503960366    3/27/2016       12736           8.53             8.53   \n",
       "3  1503960366    3/28/2016       13231           8.93             8.93   \n",
       "4  1503960366    3/29/2016       12041           7.85             7.85   \n",
       "\n",
       "   LoggedActivitiesDistance  VeryActiveDistance  ModeratelyActiveDistance  \\\n",
       "0                       0.0                2.57                      0.46   \n",
       "1                       0.0                6.92                      0.73   \n",
       "2                       0.0                4.66                      0.16   \n",
       "3                       0.0                3.19                      0.79   \n",
       "4                       0.0                2.16                      1.09   \n",
       "\n",
       "   LightActiveDistance  SedentaryActiveDistance  VeryActiveMinutes  \\\n",
       "0                 4.07                      0.0                 33   \n",
       "1                 3.91                      0.0                 89   \n",
       "2                 3.71                      0.0                 56   \n",
       "3                 4.95                      0.0                 39   \n",
       "4                 4.61                      0.0                 28   \n",
       "\n",
       "   FairlyActiveMinutes  LightlyActiveMinutes  SedentaryMinutes  Calories  \n",
       "0                   12                   205               804      1819  \n",
       "1                   17                   274               588      2154  \n",
       "2                    5                   268               605      1944  \n",
       "3                   20                   224              1080      1932  \n",
       "4                   28                   243               763      1886  "
      ]
     },
     "execution_count": 7,
     "metadata": {},
     "output_type": "execute_result"
    }
   ],
   "source": [
    "df.head()"
   ]
  },
  {
   "cell_type": "code",
   "execution_count": 8,
   "id": "a95bf885-b9e9-4a5b-bb45-d76f51906f9d",
   "metadata": {},
   "outputs": [
    {
     "name": "stdout",
     "output_type": "stream",
     "text": [
      "<class 'pandas.core.frame.DataFrame'>\n",
      "RangeIndex: 457 entries, 0 to 456\n",
      "Data columns (total 15 columns):\n",
      " #   Column                    Non-Null Count  Dtype  \n",
      "---  ------                    --------------  -----  \n",
      " 0   Id                        457 non-null    int64  \n",
      " 1   ActivityDate              457 non-null    object \n",
      " 2   TotalSteps                457 non-null    int64  \n",
      " 3   TotalDistance             457 non-null    float64\n",
      " 4   TrackerDistance           457 non-null    float64\n",
      " 5   LoggedActivitiesDistance  457 non-null    float64\n",
      " 6   VeryActiveDistance        457 non-null    float64\n",
      " 7   ModeratelyActiveDistance  457 non-null    float64\n",
      " 8   LightActiveDistance       457 non-null    float64\n",
      " 9   SedentaryActiveDistance   457 non-null    float64\n",
      " 10  VeryActiveMinutes         457 non-null    int64  \n",
      " 11  FairlyActiveMinutes       457 non-null    int64  \n",
      " 12  LightlyActiveMinutes      457 non-null    int64  \n",
      " 13  SedentaryMinutes          457 non-null    int64  \n",
      " 14  Calories                  457 non-null    int64  \n",
      "dtypes: float64(7), int64(7), object(1)\n",
      "memory usage: 53.7+ KB\n"
     ]
    }
   ],
   "source": [
    "df.info()"
   ]
  },
  {
   "cell_type": "code",
   "execution_count": 9,
   "id": "d77c3b18-a00e-4ba0-8e1f-42aec5c6e6e7",
   "metadata": {},
   "outputs": [],
   "source": [
    "#chech for missing data"
   ]
  },
  {
   "cell_type": "code",
   "execution_count": 10,
   "id": "1e4452ce-69e8-43db-8d08-6f87d575cfd9",
   "metadata": {},
   "outputs": [
    {
     "data": {
      "text/plain": [
       "Id                          0\n",
       "ActivityDate                0\n",
       "TotalSteps                  0\n",
       "TotalDistance               0\n",
       "TrackerDistance             0\n",
       "LoggedActivitiesDistance    0\n",
       "VeryActiveDistance          0\n",
       "ModeratelyActiveDistance    0\n",
       "LightActiveDistance         0\n",
       "SedentaryActiveDistance     0\n",
       "VeryActiveMinutes           0\n",
       "FairlyActiveMinutes         0\n",
       "LightlyActiveMinutes        0\n",
       "SedentaryMinutes            0\n",
       "Calories                    0\n",
       "dtype: int64"
      ]
     },
     "execution_count": 10,
     "metadata": {},
     "output_type": "execute_result"
    }
   ],
   "source": [
    "df.isnull().sum()"
   ]
  },
  {
   "cell_type": "code",
   "execution_count": 11,
   "id": "33009b1b-03df-455d-8cd0-4afb9ca7e964",
   "metadata": {},
   "outputs": [
    {
     "name": "stdout",
     "output_type": "stream",
     "text": [
      "Id                           35\n",
      "ActivityDate                 32\n",
      "TotalSteps                  389\n",
      "TotalDistance               334\n",
      "TrackerDistance             336\n",
      "LoggedActivitiesDistance     20\n",
      "VeryActiveDistance          170\n",
      "ModeratelyActiveDistance    140\n",
      "LightActiveDistance         295\n",
      "SedentaryActiveDistance       8\n",
      "VeryActiveMinutes            85\n",
      "FairlyActiveMinutes          62\n",
      "LightlyActiveMinutes        251\n",
      "SedentaryMinutes            315\n",
      "Calories                    383\n",
      "dtype: int64\n"
     ]
    }
   ],
   "source": [
    "print(df.nunique())"
   ]
  },
  {
   "cell_type": "code",
   "execution_count": 12,
   "id": "fc2bc299-a867-4cdd-8fd0-3ed8e61dca40",
   "metadata": {},
   "outputs": [],
   "source": [
    "#check for duplicates "
   ]
  },
  {
   "cell_type": "code",
   "execution_count": 13,
   "id": "5e075293-e960-428c-bbe7-0b7350665109",
   "metadata": {},
   "outputs": [
    {
     "name": "stdout",
     "output_type": "stream",
     "text": [
      "Duplicate Rows:\n",
      "Empty DataFrame\n",
      "Columns: [Id, ActivityDate, TotalSteps, TotalDistance, TrackerDistance, LoggedActivitiesDistance, VeryActiveDistance, ModeratelyActiveDistance, LightActiveDistance, SedentaryActiveDistance, VeryActiveMinutes, FairlyActiveMinutes, LightlyActiveMinutes, SedentaryMinutes, Calories]\n",
      "Index: []\n"
     ]
    }
   ],
   "source": [
    "duplicates = df[df.duplicated()]\n",
    "print(\"Duplicate Rows:\")\n",
    "print(duplicates)"
   ]
  },
  {
   "cell_type": "markdown",
   "id": "f9b05a84-a4fd-4155-b0fc-a7c7005eff62",
   "metadata": {},
   "source": [
    "ANALYZE THE DATA "
   ]
  },
  {
   "cell_type": "code",
   "execution_count": 15,
   "id": "b8007af9-1ced-473b-ac72-8f32d925cf7d",
   "metadata": {},
   "outputs": [
    {
     "data": {
      "text/html": [
       "<div>\n",
       "<style scoped>\n",
       "    .dataframe tbody tr th:only-of-type {\n",
       "        vertical-align: middle;\n",
       "    }\n",
       "\n",
       "    .dataframe tbody tr th {\n",
       "        vertical-align: top;\n",
       "    }\n",
       "\n",
       "    .dataframe thead th {\n",
       "        text-align: right;\n",
       "    }\n",
       "</style>\n",
       "<table border=\"1\" class=\"dataframe\">\n",
       "  <thead>\n",
       "    <tr style=\"text-align: right;\">\n",
       "      <th></th>\n",
       "      <th>Id</th>\n",
       "      <th>TotalSteps</th>\n",
       "      <th>TotalDistance</th>\n",
       "      <th>TrackerDistance</th>\n",
       "      <th>LoggedActivitiesDistance</th>\n",
       "      <th>VeryActiveDistance</th>\n",
       "      <th>ModeratelyActiveDistance</th>\n",
       "      <th>LightActiveDistance</th>\n",
       "      <th>SedentaryActiveDistance</th>\n",
       "      <th>VeryActiveMinutes</th>\n",
       "      <th>FairlyActiveMinutes</th>\n",
       "      <th>LightlyActiveMinutes</th>\n",
       "      <th>SedentaryMinutes</th>\n",
       "      <th>Calories</th>\n",
       "    </tr>\n",
       "  </thead>\n",
       "  <tbody>\n",
       "    <tr>\n",
       "      <th>count</th>\n",
       "      <td>4.570000e+02</td>\n",
       "      <td>457.000000</td>\n",
       "      <td>457.000000</td>\n",
       "      <td>457.000000</td>\n",
       "      <td>457.000000</td>\n",
       "      <td>457.000000</td>\n",
       "      <td>457.000000</td>\n",
       "      <td>457.000000</td>\n",
       "      <td>457.000000</td>\n",
       "      <td>457.000000</td>\n",
       "      <td>457.000000</td>\n",
       "      <td>457.000000</td>\n",
       "      <td>457.000000</td>\n",
       "      <td>457.000000</td>\n",
       "    </tr>\n",
       "    <tr>\n",
       "      <th>mean</th>\n",
       "      <td>4.628595e+09</td>\n",
       "      <td>6546.562363</td>\n",
       "      <td>4.663523</td>\n",
       "      <td>4.609847</td>\n",
       "      <td>0.179427</td>\n",
       "      <td>1.180897</td>\n",
       "      <td>0.478643</td>\n",
       "      <td>2.890197</td>\n",
       "      <td>0.001904</td>\n",
       "      <td>16.623632</td>\n",
       "      <td>13.070022</td>\n",
       "      <td>170.070022</td>\n",
       "      <td>995.282276</td>\n",
       "      <td>2189.452954</td>\n",
       "    </tr>\n",
       "    <tr>\n",
       "      <th>std</th>\n",
       "      <td>2.293781e+09</td>\n",
       "      <td>5398.493064</td>\n",
       "      <td>4.082072</td>\n",
       "      <td>4.068540</td>\n",
       "      <td>0.849232</td>\n",
       "      <td>2.487159</td>\n",
       "      <td>0.830995</td>\n",
       "      <td>2.237523</td>\n",
       "      <td>0.008487</td>\n",
       "      <td>28.919704</td>\n",
       "      <td>36.208635</td>\n",
       "      <td>122.205372</td>\n",
       "      <td>337.021404</td>\n",
       "      <td>815.484523</td>\n",
       "    </tr>\n",
       "    <tr>\n",
       "      <th>min</th>\n",
       "      <td>1.503960e+09</td>\n",
       "      <td>0.000000</td>\n",
       "      <td>0.000000</td>\n",
       "      <td>0.000000</td>\n",
       "      <td>0.000000</td>\n",
       "      <td>0.000000</td>\n",
       "      <td>0.000000</td>\n",
       "      <td>0.000000</td>\n",
       "      <td>0.000000</td>\n",
       "      <td>0.000000</td>\n",
       "      <td>0.000000</td>\n",
       "      <td>0.000000</td>\n",
       "      <td>32.000000</td>\n",
       "      <td>0.000000</td>\n",
       "    </tr>\n",
       "    <tr>\n",
       "      <th>25%</th>\n",
       "      <td>2.347168e+09</td>\n",
       "      <td>1988.000000</td>\n",
       "      <td>1.410000</td>\n",
       "      <td>1.280000</td>\n",
       "      <td>0.000000</td>\n",
       "      <td>0.000000</td>\n",
       "      <td>0.000000</td>\n",
       "      <td>0.870000</td>\n",
       "      <td>0.000000</td>\n",
       "      <td>0.000000</td>\n",
       "      <td>0.000000</td>\n",
       "      <td>64.000000</td>\n",
       "      <td>728.000000</td>\n",
       "      <td>1776.000000</td>\n",
       "    </tr>\n",
       "    <tr>\n",
       "      <th>50%</th>\n",
       "      <td>4.057193e+09</td>\n",
       "      <td>5986.000000</td>\n",
       "      <td>4.090000</td>\n",
       "      <td>4.090000</td>\n",
       "      <td>0.000000</td>\n",
       "      <td>0.000000</td>\n",
       "      <td>0.020000</td>\n",
       "      <td>2.930000</td>\n",
       "      <td>0.000000</td>\n",
       "      <td>0.000000</td>\n",
       "      <td>1.000000</td>\n",
       "      <td>181.000000</td>\n",
       "      <td>1057.000000</td>\n",
       "      <td>2062.000000</td>\n",
       "    </tr>\n",
       "    <tr>\n",
       "      <th>75%</th>\n",
       "      <td>6.391747e+09</td>\n",
       "      <td>10198.000000</td>\n",
       "      <td>7.160000</td>\n",
       "      <td>7.110000</td>\n",
       "      <td>0.000000</td>\n",
       "      <td>1.310000</td>\n",
       "      <td>0.670000</td>\n",
       "      <td>4.460000</td>\n",
       "      <td>0.000000</td>\n",
       "      <td>25.000000</td>\n",
       "      <td>16.000000</td>\n",
       "      <td>257.000000</td>\n",
       "      <td>1285.000000</td>\n",
       "      <td>2667.000000</td>\n",
       "    </tr>\n",
       "    <tr>\n",
       "      <th>max</th>\n",
       "      <td>8.877689e+09</td>\n",
       "      <td>28497.000000</td>\n",
       "      <td>27.530001</td>\n",
       "      <td>27.530001</td>\n",
       "      <td>6.727057</td>\n",
       "      <td>21.920000</td>\n",
       "      <td>6.400000</td>\n",
       "      <td>12.510000</td>\n",
       "      <td>0.100000</td>\n",
       "      <td>202.000000</td>\n",
       "      <td>660.000000</td>\n",
       "      <td>720.000000</td>\n",
       "      <td>1440.000000</td>\n",
       "      <td>4562.000000</td>\n",
       "    </tr>\n",
       "  </tbody>\n",
       "</table>\n",
       "</div>"
      ],
      "text/plain": [
       "                 Id    TotalSteps  TotalDistance  TrackerDistance  \\\n",
       "count  4.570000e+02    457.000000     457.000000       457.000000   \n",
       "mean   4.628595e+09   6546.562363       4.663523         4.609847   \n",
       "std    2.293781e+09   5398.493064       4.082072         4.068540   \n",
       "min    1.503960e+09      0.000000       0.000000         0.000000   \n",
       "25%    2.347168e+09   1988.000000       1.410000         1.280000   \n",
       "50%    4.057193e+09   5986.000000       4.090000         4.090000   \n",
       "75%    6.391747e+09  10198.000000       7.160000         7.110000   \n",
       "max    8.877689e+09  28497.000000      27.530001        27.530001   \n",
       "\n",
       "       LoggedActivitiesDistance  VeryActiveDistance  ModeratelyActiveDistance  \\\n",
       "count                457.000000          457.000000                457.000000   \n",
       "mean                   0.179427            1.180897                  0.478643   \n",
       "std                    0.849232            2.487159                  0.830995   \n",
       "min                    0.000000            0.000000                  0.000000   \n",
       "25%                    0.000000            0.000000                  0.000000   \n",
       "50%                    0.000000            0.000000                  0.020000   \n",
       "75%                    0.000000            1.310000                  0.670000   \n",
       "max                    6.727057           21.920000                  6.400000   \n",
       "\n",
       "       LightActiveDistance  SedentaryActiveDistance  VeryActiveMinutes  \\\n",
       "count           457.000000               457.000000         457.000000   \n",
       "mean              2.890197                 0.001904          16.623632   \n",
       "std               2.237523                 0.008487          28.919704   \n",
       "min               0.000000                 0.000000           0.000000   \n",
       "25%               0.870000                 0.000000           0.000000   \n",
       "50%               2.930000                 0.000000           0.000000   \n",
       "75%               4.460000                 0.000000          25.000000   \n",
       "max              12.510000                 0.100000         202.000000   \n",
       "\n",
       "       FairlyActiveMinutes  LightlyActiveMinutes  SedentaryMinutes  \\\n",
       "count           457.000000            457.000000        457.000000   \n",
       "mean             13.070022            170.070022        995.282276   \n",
       "std              36.208635            122.205372        337.021404   \n",
       "min               0.000000              0.000000         32.000000   \n",
       "25%               0.000000             64.000000        728.000000   \n",
       "50%               1.000000            181.000000       1057.000000   \n",
       "75%              16.000000            257.000000       1285.000000   \n",
       "max             660.000000            720.000000       1440.000000   \n",
       "\n",
       "          Calories  \n",
       "count   457.000000  \n",
       "mean   2189.452954  \n",
       "std     815.484523  \n",
       "min       0.000000  \n",
       "25%    1776.000000  \n",
       "50%    2062.000000  \n",
       "75%    2667.000000  \n",
       "max    4562.000000  "
      ]
     },
     "execution_count": 15,
     "metadata": {},
     "output_type": "execute_result"
    }
   ],
   "source": [
    "df.describe()"
   ]
  },
  {
   "cell_type": "code",
   "execution_count": 16,
   "id": "31fae273-cd1a-4288-a3e0-65051cda8207",
   "metadata": {},
   "outputs": [],
   "source": [
    "#analyze rows for outliers "
   ]
  },
  {
   "cell_type": "code",
   "execution_count": 17,
   "id": "8d21a62a-7586-4031-8c94-95cc83074297",
   "metadata": {},
   "outputs": [
    {
     "data": {
      "text/plain": [
       "<Axes: ylabel='TotalSteps'>"
      ]
     },
     "execution_count": 17,
     "metadata": {},
     "output_type": "execute_result"
    },
    {
     "data": {
      "image/png": "[encoded data removed]",
      "text/plain": [
       "<Figure size 640x480 with 1 Axes>"
      ]
     },
     "metadata": {},
     "output_type": "display_data"
    }
   ],
   "source": [
    "sns.boxplot(df['TotalSteps'])"
   ]
  },
  {
   "cell_type": "code",
   "execution_count": 18,
   "id": "a265b0b7-767a-4341-9d29-10ce0651ef80",
   "metadata": {},
   "outputs": [
    {
     "data": {
      "text/plain": [
       "<Axes: ylabel='TotalDistance'>"
      ]
     },
     "execution_count": 18,
     "metadata": {},
     "output_type": "execute_result"
    },
    {
     "data": {
      "image/png": "[encoded data removed]",
      "text/plain": [
       "<Figure size 640x480 with 1 Axes>"
      ]
     },
     "metadata": {},
     "output_type": "display_data"
    }
   ],
   "source": [
    "sns.boxplot(df['TotalDistance'])"
   ]
  },
  {
   "cell_type": "code",
   "execution_count": 19,
   "id": "1d236901-f931-4a80-bcac-c7272e619f10",
   "metadata": {},
   "outputs": [
    {
     "data": {
      "text/plain": [
       "<Axes: ylabel='TrackerDistance'>"
      ]
     },
     "execution_count": 19,
     "metadata": {},
     "output_type": "execute_result"
    },
    {
     "data": {
      "image/png": "[encoded data removed]",
      "text/plain": [
       "<Figure size 640x480 with 1 Axes>"
      ]
     },
     "metadata": {},
     "output_type": "display_data"
    }
   ],
   "source": [
    "sns.boxplot(df['TrackerDistance'])"
   ]
  },
  {
   "cell_type": "code",
   "execution_count": 20,
   "id": "007071a4-f645-4205-b030-a6442960a740",
   "metadata": {},
   "outputs": [
    {
     "data": {
      "text/plain": [
       "<Axes: ylabel='LoggedActivitiesDistance'>"
      ]
     },
     "execution_count": 20,
     "metadata": {},
     "output_type": "execute_result"
    },
    {
     "data": {
      "image/png": "[encoded data removed]",
      "text/plain": [
       "<Figure size 640x480 with 1 Axes>"
      ]
     },
     "metadata": {},
     "output_type": "display_data"
    }
   ],
   "source": [
    "sns.boxplot(df['LoggedActivitiesDistance'])"
   ]
  },
  {
   "cell_type": "code",
   "execution_count": 21,
   "id": "22b24138-47cd-4d35-9e01-b1e0ac844144",
   "metadata": {},
   "outputs": [
    {
     "data": {
      "text/plain": [
       "<Axes: ylabel='VeryActiveDistance'>"
      ]
     },
     "execution_count": 21,
     "metadata": {},
     "output_type": "execute_result"
    },
    {
     "data": {
      "image/png": "[encoded data removed]",
      "text/plain": [
       "<Figure size 640x480 with 1 Axes>"
      ]
     },
     "metadata": {},
     "output_type": "display_data"
    }
   ],
   "source": [
    "sns.boxplot(df['VeryActiveDistance'])"
   ]
  },
  {
   "cell_type": "code",
   "execution_count": 22,
   "id": "a12501e7-0dbb-4368-8730-896010f2ce25",
   "metadata": {},
   "outputs": [
    {
     "data": {
      "text/plain": [
       "<Axes: ylabel='SedentaryActiveDistance'>"
      ]
     },
     "execution_count": 22,
     "metadata": {},
     "output_type": "execute_result"
    },
    {
     "data": {
      "image/png": "[encoded data removed]",
      "text/plain": [
       "<Figure size 640x480 with 1 Axes>"
      ]
     },
     "metadata": {},
     "output_type": "display_data"
    }
   ],
   "source": [
    "sns.boxplot(df['SedentaryActiveDistance'])"
   ]
  },
  {
   "cell_type": "code",
   "execution_count": 23,
   "id": "228cefa3-4029-4053-8958-d07943811f3f",
   "metadata": {},
   "outputs": [
    {
     "data": {
      "text/plain": [
       "<Axes: ylabel='VeryActiveMinutes'>"
      ]
     },
     "execution_count": 23,
     "metadata": {},
     "output_type": "execute_result"
    },
    {
     "data": {
      "image/png": "[encoded data removed]",
      "text/plain": [
       "<Figure size 640x480 with 1 Axes>"
      ]
     },
     "metadata": {},
     "output_type": "display_data"
    }
   ],
   "source": [
    "sns.boxplot(df['VeryActiveMinutes'])"
   ]
  },
  {
   "cell_type": "code",
   "execution_count": 24,
   "id": "881b38ff-7830-43b8-9e8a-49e2cfc53d09",
   "metadata": {},
   "outputs": [
    {
     "data": {
      "text/plain": [
       "<Axes: ylabel='FairlyActiveMinutes'>"
      ]
     },
     "execution_count": 24,
     "metadata": {},
     "output_type": "execute_result"
    },
    {
     "data": {
      "image/png": "[encoded data removed]",
      "text/plain": [
       "<Figure size 640x480 with 1 Axes>"
      ]
     },
     "metadata": {},
     "output_type": "display_data"
    }
   ],
   "source": [
    "sns.boxplot(df['FairlyActiveMinutes'])"
   ]
  },
  {
   "cell_type": "code",
   "execution_count": 25,
   "id": "36a43e56-97f9-4523-9272-8ccedaa317c2",
   "metadata": {},
   "outputs": [
    {
     "data": {
      "text/plain": [
       "<Axes: ylabel='LightlyActiveMinutes'>"
      ]
     },
     "execution_count": 25,
     "metadata": {},
     "output_type": "execute_result"
    },
    {
     "data": {
      "image/png": "[encoded data removed]",
      "text/plain": [
       "<Figure size 640x480 with 1 Axes>"
      ]
     },
     "metadata": {},
     "output_type": "display_data"
    }
   ],
   "source": [
    "sns.boxplot(df['LightlyActiveMinutes'])"
   ]
  },
  {
   "cell_type": "code",
   "execution_count": 26,
   "id": "76010234-f594-414b-8e27-b4f82ff87067",
   "metadata": {},
   "outputs": [
    {
     "data": {
      "text/plain": [
       "<Axes: ylabel='SedentaryMinutes'>"
      ]
     },
     "execution_count": 26,
     "metadata": {},
     "output_type": "execute_result"
    },
    {
     "data": {
      "image/png": "[encoded data removed]",
      "text/plain": [
       "<Figure size 640x480 with 1 Axes>"
      ]
     },
     "metadata": {},
     "output_type": "display_data"
    }
   ],
   "source": [
    "sns.boxplot(df['SedentaryMinutes'])"
   ]
  },
  {
   "cell_type": "code",
   "execution_count": 27,
   "id": "00ba9e58-204d-4091-bf75-779a34a03085",
   "metadata": {},
   "outputs": [
    {
     "data": {
      "text/plain": [
       "<Axes: ylabel='Calories'>"
      ]
     },
     "execution_count": 27,
     "metadata": {},
     "output_type": "execute_result"
    },
    {
     "data": {
      "image/png": "[encoded data removed]",
      "text/plain": [
       "<Figure size 640x480 with 1 Axes>"
      ]
     },
     "metadata": {},
     "output_type": "display_data"
    }
   ],
   "source": [
    "sns.boxplot(df['Calories'])"
   ]
  },
  {
   "cell_type": "code",
   "execution_count": 28,
   "id": "db139f8f-2c42-479e-b7c0-56ddaa4961ea",
   "metadata": {},
   "outputs": [],
   "source": [
    "#chnage the activity date to include day of the week column"
   ]
  },
  {
   "cell_type": "code",
   "execution_count": 29,
   "id": "44249e70-f77b-4d11-b470-4845f7e9dc45",
   "metadata": {},
   "outputs": [],
   "source": [
    "df['DayOfTheWeek']= pd.to_datetime(df['ActivityDate'])"
   ]
  },
  {
   "cell_type": "code",
   "execution_count": 30,
   "id": "9b732a83-fba6-4879-b9c9-0e8e37997d30",
   "metadata": {},
   "outputs": [
    {
     "data": {
      "text/html": [
       "<div>\n",
       "<style scoped>\n",
       "    .dataframe tbody tr th:only-of-type {\n",
       "        vertical-align: middle;\n",
       "    }\n",
       "\n",
       "    .dataframe tbody tr th {\n",
       "        vertical-align: top;\n",
       "    }\n",
       "\n",
       "    .dataframe thead th {\n",
       "        text-align: right;\n",
       "    }\n",
       "</style>\n",
       "<table border=\"1\" class=\"dataframe\">\n",
       "  <thead>\n",
       "    <tr style=\"text-align: right;\">\n",
       "      <th></th>\n",
       "      <th>Id</th>\n",
       "      <th>ActivityDate</th>\n",
       "      <th>TotalSteps</th>\n",
       "      <th>TotalDistance</th>\n",
       "      <th>TrackerDistance</th>\n",
       "      <th>LoggedActivitiesDistance</th>\n",
       "      <th>VeryActiveDistance</th>\n",
       "      <th>ModeratelyActiveDistance</th>\n",
       "      <th>LightActiveDistance</th>\n",
       "      <th>SedentaryActiveDistance</th>\n",
       "      <th>VeryActiveMinutes</th>\n",
       "      <th>FairlyActiveMinutes</th>\n",
       "      <th>LightlyActiveMinutes</th>\n",
       "      <th>SedentaryMinutes</th>\n",
       "      <th>Calories</th>\n",
       "      <th>DayOfTheWeek</th>\n",
       "    </tr>\n",
       "  </thead>\n",
       "  <tbody>\n",
       "    <tr>\n",
       "      <th>0</th>\n",
       "      <td>1503960366</td>\n",
       "      <td>3/25/2016</td>\n",
       "      <td>11004</td>\n",
       "      <td>7.11</td>\n",
       "      <td>7.11</td>\n",
       "      <td>0.0</td>\n",
       "      <td>2.57</td>\n",
       "      <td>0.46</td>\n",
       "      <td>4.07</td>\n",
       "      <td>0.0</td>\n",
       "      <td>33</td>\n",
       "      <td>12</td>\n",
       "      <td>205</td>\n",
       "      <td>804</td>\n",
       "      <td>1819</td>\n",
       "      <td>2016-03-25</td>\n",
       "    </tr>\n",
       "    <tr>\n",
       "      <th>1</th>\n",
       "      <td>1503960366</td>\n",
       "      <td>3/26/2016</td>\n",
       "      <td>17609</td>\n",
       "      <td>11.55</td>\n",
       "      <td>11.55</td>\n",
       "      <td>0.0</td>\n",
       "      <td>6.92</td>\n",
       "      <td>0.73</td>\n",
       "      <td>3.91</td>\n",
       "      <td>0.0</td>\n",
       "      <td>89</td>\n",
       "      <td>17</td>\n",
       "      <td>274</td>\n",
       "      <td>588</td>\n",
       "      <td>2154</td>\n",
       "      <td>2016-03-26</td>\n",
       "    </tr>\n",
       "    <tr>\n",
       "      <th>2</th>\n",
       "      <td>1503960366</td>\n",
       "      <td>3/27/2016</td>\n",
       "      <td>12736</td>\n",
       "      <td>8.53</td>\n",
       "      <td>8.53</td>\n",
       "      <td>0.0</td>\n",
       "      <td>4.66</td>\n",
       "      <td>0.16</td>\n",
       "      <td>3.71</td>\n",
       "      <td>0.0</td>\n",
       "      <td>56</td>\n",
       "      <td>5</td>\n",
       "      <td>268</td>\n",
       "      <td>605</td>\n",
       "      <td>1944</td>\n",
       "      <td>2016-03-27</td>\n",
       "    </tr>\n",
       "    <tr>\n",
       "      <th>3</th>\n",
       "      <td>1503960366</td>\n",
       "      <td>3/28/2016</td>\n",
       "      <td>13231</td>\n",
       "      <td>8.93</td>\n",
       "      <td>8.93</td>\n",
       "      <td>0.0</td>\n",
       "      <td>3.19</td>\n",
       "      <td>0.79</td>\n",
       "      <td>4.95</td>\n",
       "      <td>0.0</td>\n",
       "      <td>39</td>\n",
       "      <td>20</td>\n",
       "      <td>224</td>\n",
       "      <td>1080</td>\n",
       "      <td>1932</td>\n",
       "      <td>2016-03-28</td>\n",
       "    </tr>\n",
       "    <tr>\n",
       "      <th>4</th>\n",
       "      <td>1503960366</td>\n",
       "      <td>3/29/2016</td>\n",
       "      <td>12041</td>\n",
       "      <td>7.85</td>\n",
       "      <td>7.85</td>\n",
       "      <td>0.0</td>\n",
       "      <td>2.16</td>\n",
       "      <td>1.09</td>\n",
       "      <td>4.61</td>\n",
       "      <td>0.0</td>\n",
       "      <td>28</td>\n",
       "      <td>28</td>\n",
       "      <td>243</td>\n",
       "      <td>763</td>\n",
       "      <td>1886</td>\n",
       "      <td>2016-03-29</td>\n",
       "    </tr>\n",
       "  </tbody>\n",
       "</table>\n",
       "</div>"
      ],
      "text/plain": [
       "           Id ActivityDate  TotalSteps  TotalDistance  TrackerDistance  \\\n",
       "0  1503960366    3/25/2016       11004           7.11             7.11   \n",
       "1  1503960366    3/26/2016       17609          11.55            11.55   \n",
       "2  1503960366    3/27/2016       12736           8.53             8.53   \n",
       "3  1503960366    3/28/2016       13231           8.93             8.93   \n",
       "4  1503960366    3/29/2016       12041           7.85             7.85   \n",
       "\n",
       "   LoggedActivitiesDistance  VeryActiveDistance  ModeratelyActiveDistance  \\\n",
       "0                       0.0                2.57                      0.46   \n",
       "1                       0.0                6.92                      0.73   \n",
       "2                       0.0                4.66                      0.16   \n",
       "3                       0.0                3.19                      0.79   \n",
       "4                       0.0                2.16                      1.09   \n",
       "\n",
       "   LightActiveDistance  SedentaryActiveDistance  VeryActiveMinutes  \\\n",
       "0                 4.07                      0.0                 33   \n",
       "1                 3.91                      0.0                 89   \n",
       "2                 3.71                      0.0                 56   \n",
       "3                 4.95                      0.0                 39   \n",
       "4                 4.61                      0.0                 28   \n",
       "\n",
       "   FairlyActiveMinutes  LightlyActiveMinutes  SedentaryMinutes  Calories  \\\n",
       "0                   12                   205               804      1819   \n",
       "1                   17                   274               588      2154   \n",
       "2                    5                   268               605      1944   \n",
       "3                   20                   224              1080      1932   \n",
       "4                   28                   243               763      1886   \n",
       "\n",
       "  DayOfTheWeek  \n",
       "0   2016-03-25  \n",
       "1   2016-03-26  \n",
       "2   2016-03-27  \n",
       "3   2016-03-28  \n",
       "4   2016-03-29  "
      ]
     },
     "execution_count": 30,
     "metadata": {},
     "output_type": "execute_result"
    }
   ],
   "source": [
    "df.head()"
   ]
  },
  {
   "cell_type": "code",
   "execution_count": 31,
   "id": "a1b336a3-dbbf-49f5-8935-65d659c8a632",
   "metadata": {},
   "outputs": [],
   "source": [
    "df['DayOfTheWeek'] = df['DayOfTheWeek'].dt.day_name()"
   ]
  },
  {
   "cell_type": "code",
   "execution_count": 32,
   "id": "d47d0e8d-aa8f-4cd1-8eff-2313b6519bf3",
   "metadata": {},
   "outputs": [],
   "source": [
    "#observe changes has been made"
   ]
  },
  {
   "cell_type": "code",
   "execution_count": 197,
   "id": "f0bcdeec-e36e-479d-8389-4f6fd7159318",
   "metadata": {},
   "outputs": [
    {
     "data": {
      "text/html": [
       "<div>\n",
       "<style scoped>\n",
       "    .dataframe tbody tr th:only-of-type {\n",
       "        vertical-align: middle;\n",
       "    }\n",
       "\n",
       "    .dataframe tbody tr th {\n",
       "        vertical-align: top;\n",
       "    }\n",
       "\n",
       "    .dataframe thead th {\n",
       "        text-align: right;\n",
       "    }\n",
       "</style>\n",
       "<table border=\"1\" class=\"dataframe\">\n",
       "  <thead>\n",
       "    <tr style=\"text-align: right;\">\n",
       "      <th></th>\n",
       "      <th>Id</th>\n",
       "      <th>ActivityDate</th>\n",
       "      <th>TotalSteps</th>\n",
       "      <th>TotalDistance</th>\n",
       "      <th>TrackerDistance</th>\n",
       "      <th>LoggedActivitiesDistance</th>\n",
       "      <th>VeryActiveDistance</th>\n",
       "      <th>ModeratelyActiveDistance</th>\n",
       "      <th>LightActiveDistance</th>\n",
       "      <th>SedentaryActiveDistance</th>\n",
       "      <th>VeryActiveMinutes</th>\n",
       "      <th>FairlyActiveMinutes</th>\n",
       "      <th>LightlyActiveMinutes</th>\n",
       "      <th>SedentaryMinutes</th>\n",
       "      <th>Calories</th>\n",
       "      <th>DayOfTheWeek</th>\n",
       "    </tr>\n",
       "  </thead>\n",
       "  <tbody>\n",
       "    <tr>\n",
       "      <th>0</th>\n",
       "      <td>1503960366</td>\n",
       "      <td>3/25/2016</td>\n",
       "      <td>11004</td>\n",
       "      <td>7.11</td>\n",
       "      <td>7.11</td>\n",
       "      <td>0.0</td>\n",
       "      <td>2.57</td>\n",
       "      <td>0.46</td>\n",
       "      <td>4.07</td>\n",
       "      <td>0.0</td>\n",
       "      <td>33</td>\n",
       "      <td>12</td>\n",
       "      <td>205</td>\n",
       "      <td>804</td>\n",
       "      <td>1819</td>\n",
       "      <td>Friday</td>\n",
       "    </tr>\n",
       "    <tr>\n",
       "      <th>1</th>\n",
       "      <td>1503960366</td>\n",
       "      <td>3/26/2016</td>\n",
       "      <td>17609</td>\n",
       "      <td>11.55</td>\n",
       "      <td>11.55</td>\n",
       "      <td>0.0</td>\n",
       "      <td>6.92</td>\n",
       "      <td>0.73</td>\n",
       "      <td>3.91</td>\n",
       "      <td>0.0</td>\n",
       "      <td>89</td>\n",
       "      <td>17</td>\n",
       "      <td>274</td>\n",
       "      <td>588</td>\n",
       "      <td>2154</td>\n",
       "      <td>Saturday</td>\n",
       "    </tr>\n",
       "    <tr>\n",
       "      <th>2</th>\n",
       "      <td>1503960366</td>\n",
       "      <td>3/27/2016</td>\n",
       "      <td>12736</td>\n",
       "      <td>8.53</td>\n",
       "      <td>8.53</td>\n",
       "      <td>0.0</td>\n",
       "      <td>4.66</td>\n",
       "      <td>0.16</td>\n",
       "      <td>3.71</td>\n",
       "      <td>0.0</td>\n",
       "      <td>56</td>\n",
       "      <td>5</td>\n",
       "      <td>268</td>\n",
       "      <td>605</td>\n",
       "      <td>1944</td>\n",
       "      <td>Sunday</td>\n",
       "    </tr>\n",
       "    <tr>\n",
       "      <th>3</th>\n",
       "      <td>1503960366</td>\n",
       "      <td>3/28/2016</td>\n",
       "      <td>13231</td>\n",
       "      <td>8.93</td>\n",
       "      <td>8.93</td>\n",
       "      <td>0.0</td>\n",
       "      <td>3.19</td>\n",
       "      <td>0.79</td>\n",
       "      <td>4.95</td>\n",
       "      <td>0.0</td>\n",
       "      <td>39</td>\n",
       "      <td>20</td>\n",
       "      <td>224</td>\n",
       "      <td>1080</td>\n",
       "      <td>1932</td>\n",
       "      <td>Monday</td>\n",
       "    </tr>\n",
       "    <tr>\n",
       "      <th>4</th>\n",
       "      <td>1503960366</td>\n",
       "      <td>3/29/2016</td>\n",
       "      <td>12041</td>\n",
       "      <td>7.85</td>\n",
       "      <td>7.85</td>\n",
       "      <td>0.0</td>\n",
       "      <td>2.16</td>\n",
       "      <td>1.09</td>\n",
       "      <td>4.61</td>\n",
       "      <td>0.0</td>\n",
       "      <td>28</td>\n",
       "      <td>28</td>\n",
       "      <td>243</td>\n",
       "      <td>763</td>\n",
       "      <td>1886</td>\n",
       "      <td>Tuesday</td>\n",
       "    </tr>\n",
       "  </tbody>\n",
       "</table>\n",
       "</div>"
      ],
      "text/plain": [
       "           Id ActivityDate  TotalSteps  TotalDistance  TrackerDistance  \\\n",
       "0  1503960366    3/25/2016       11004           7.11             7.11   \n",
       "1  1503960366    3/26/2016       17609          11.55            11.55   \n",
       "2  1503960366    3/27/2016       12736           8.53             8.53   \n",
       "3  1503960366    3/28/2016       13231           8.93             8.93   \n",
       "4  1503960366    3/29/2016       12041           7.85             7.85   \n",
       "\n",
       "   LoggedActivitiesDistance  VeryActiveDistance  ModeratelyActiveDistance  \\\n",
       "0                       0.0                2.57                      0.46   \n",
       "1                       0.0                6.92                      0.73   \n",
       "2                       0.0                4.66                      0.16   \n",
       "3                       0.0                3.19                      0.79   \n",
       "4                       0.0                2.16                      1.09   \n",
       "\n",
       "   LightActiveDistance  SedentaryActiveDistance  VeryActiveMinutes  \\\n",
       "0                 4.07                      0.0                 33   \n",
       "1                 3.91                      0.0                 89   \n",
       "2                 3.71                      0.0                 56   \n",
       "3                 4.95                      0.0                 39   \n",
       "4                 4.61                      0.0                 28   \n",
       "\n",
       "   FairlyActiveMinutes  LightlyActiveMinutes  SedentaryMinutes  Calories  \\\n",
       "0                   12                   205               804      1819   \n",
       "1                   17                   274               588      2154   \n",
       "2                    5                   268               605      1944   \n",
       "3                   20                   224              1080      1932   \n",
       "4                   28                   243               763      1886   \n",
       "\n",
       "  DayOfTheWeek  \n",
       "0       Friday  \n",
       "1     Saturday  \n",
       "2       Sunday  \n",
       "3       Monday  \n",
       "4      Tuesday  "
      ]
     },
     "execution_count": 197,
     "metadata": {},
     "output_type": "execute_result"
    }
   ],
   "source": [
    "df.head()"
   ]
  },
  {
   "cell_type": "code",
   "execution_count": 34,
   "id": "fbfa1a31-a325-43bc-8e63-81baa3ad6fa0",
   "metadata": {},
   "outputs": [
    {
     "name": "stdout",
     "output_type": "stream",
     "text": [
      "Id                            int64\n",
      "ActivityDate                 object\n",
      "TotalSteps                    int64\n",
      "TotalDistance               float64\n",
      "TrackerDistance             float64\n",
      "LoggedActivitiesDistance    float64\n",
      "VeryActiveDistance          float64\n",
      "ModeratelyActiveDistance    float64\n",
      "LightActiveDistance         float64\n",
      "SedentaryActiveDistance     float64\n",
      "VeryActiveMinutes             int64\n",
      "FairlyActiveMinutes           int64\n",
      "LightlyActiveMinutes          int64\n",
      "SedentaryMinutes              int64\n",
      "Calories                      int64\n",
      "DayOfTheWeek                 object\n",
      "dtype: object\n"
     ]
    }
   ],
   "source": [
    "print(df.dtypes)\n"
   ]
  },
  {
   "cell_type": "code",
   "execution_count": 35,
   "id": "9d85ee40-7bdf-4f95-9481-74db56e30238",
   "metadata": {},
   "outputs": [
    {
     "name": "stdout",
     "output_type": "stream",
     "text": [
      "Id                            int64\n",
      "ActivityDate                 object\n",
      "TotalSteps                    int64\n",
      "TotalDistance               float64\n",
      "TrackerDistance             float64\n",
      "LoggedActivitiesDistance    float64\n",
      "VeryActiveDistance          float64\n",
      "ModeratelyActiveDistance    float64\n",
      "LightActiveDistance         float64\n",
      "SedentaryActiveDistance     float64\n",
      "VeryActiveMinutes             int64\n",
      "FairlyActiveMinutes           int64\n",
      "LightlyActiveMinutes          int64\n",
      "SedentaryMinutes              int64\n",
      "Calories                      int64\n",
      "DayOfTheWeek                 object\n",
      "dtype: object\n",
      "Index(['Monday', 'Tuesday', 'Wednesday', 'Thursday', 'Friday', 'Saturday',\n",
      "       'Sunday'],\n",
      "      dtype='object')\n",
      "                 Calories\n",
      "DayOfTheWeek             \n",
      "Monday        2252.867647\n",
      "Tuesday       1742.424658\n",
      "Wednesday     2377.458333\n",
      "Thursday      2297.812500\n",
      "Friday        2313.547945\n",
      "Saturday      2277.586667\n",
      "Sunday        2167.597222\n"
     ]
    }
   ],
   "source": [
    "cat_week = ['Monday', 'Tuesday', 'Wednesday', 'Thursday', 'Friday', 'Saturday', 'Sunday']\n",
    "\n",
    "# Verify data types\n",
    "print(df.dtypes)\n",
    "\n",
    "# Ensure 'DayOfTheWeek' is a categorical type with expected categories\n",
    "df['DayOfTheWeek'] = pd.Categorical(df['DayOfTheWeek'], categories=cat_week, ordered=True)\n",
    "\n",
    "# Verify unique values in 'DayOfTheWeek'\n",
    "print(df['DayOfTheWeek'].cat.categories)\n",
    "\n",
    "# Perform groupby and calculate the mean of numeric columns\n",
    "df_weekday = df.groupby('DayOfTheWeek', observed=False).mean(numeric_only=True).reindex(cat_week)\n",
    "\n",
    "# Filter to include only the 'Calories' column\n",
    "calories_by_day = df_weekday.filter(['Calories'])\n",
    "\n",
    "print(calories_by_day)"
   ]
  },
  {
   "cell_type": "code",
   "execution_count": 36,
   "id": "d30d60a4-498a-412d-bdc7-8c0dc3718753",
   "metadata": {},
   "outputs": [],
   "source": [
    "#calculate the calories burnt by the days of the week"
   ]
  },
  {
   "cell_type": "code",
   "execution_count": 37,
   "id": "43339a1c-1621-4af6-8ac6-8cbf45a5a2e4",
   "metadata": {},
   "outputs": [
    {
     "name": "stdout",
     "output_type": "stream",
     "text": [
      "                 Calories\n",
      "DayOfTheWeek             \n",
      "Monday        2252.867647\n",
      "Tuesday       1742.424658\n",
      "Wednesday     2377.458333\n",
      "Thursday      2297.812500\n",
      "Friday        2313.547945\n",
      "Saturday      2277.586667\n",
      "Sunday        2167.597222\n"
     ]
    }
   ],
   "source": [
    "cat_week = ['Monday', 'Tuesday', 'Wednesday', 'Thursday', 'Friday', 'Saturday', 'Sunday']\n",
    "cat_type = CategoricalDtype(categories=cat_week, ordered=True)\n",
    "df['DayOfTheWeek'] = df['DayOfTheWeek'].astype(cat_type)\n",
    "df_weekday = df.groupby('DayOfTheWeek', observed=False).mean(numeric_only=True)\n",
    "\n",
    "# Reindex to ensure the days are in the correct order\n",
    "df_weekday = df_weekday.reindex(cat_week)\n",
    "\n",
    "# Filter the result to only include the 'Calories' column\n",
    "calories_by_day = df_weekday[['Calories']]\n",
    "\n",
    "# Display the filtered DataFrame\n",
    "print(calories_by_day)"
   ]
  },
  {
   "cell_type": "code",
   "execution_count": 38,
   "id": "db89f572-b857-4582-aa1c-3b0a5433c902",
   "metadata": {},
   "outputs": [],
   "source": [
    "#calculate the avergae total steps taken by the days of the week"
   ]
  },
  {
   "cell_type": "code",
   "execution_count": 39,
   "id": "00a7db4d-5dbb-4e89-9b73-b70f4e911986",
   "metadata": {},
   "outputs": [
    {
     "name": "stdout",
     "output_type": "stream",
     "text": [
      "               TotalSteps\n",
      "DayOfTheWeek             \n",
      "Monday        7118.588235\n",
      "Tuesday       4914.917808\n",
      "Wednesday     7510.708333\n",
      "Thursday      6847.083333\n",
      "Friday        6737.561644\n",
      "Saturday      7089.773333\n",
      "Sunday        6058.013889\n"
     ]
    }
   ],
   "source": [
    "TotalSteps_by_day = df_weekday.filter(['TotalSteps'])\n",
    "print(TotalSteps_by_day)"
   ]
  },
  {
   "cell_type": "code",
   "execution_count": 40,
   "id": "e516d305-ca9b-4ccc-80e9-66cf4a66ba75",
   "metadata": {},
   "outputs": [],
   "source": [
    "#calculate the avergae total distance taken by the days of the week"
   ]
  },
  {
   "cell_type": "code",
   "execution_count": 41,
   "id": "905fb8c9-d1ba-4497-9f29-76bf4f356fff",
   "metadata": {},
   "outputs": [
    {
     "name": "stdout",
     "output_type": "stream",
     "text": [
      "              TotalDistance\n",
      "DayOfTheWeek               \n",
      "Monday             5.054559\n",
      "Tuesday            3.489589\n",
      "Wednesday          5.371458\n",
      "Thursday           4.850417\n",
      "Friday             4.853699\n",
      "Saturday           5.020933\n",
      "Sunday             4.322778\n"
     ]
    }
   ],
   "source": [
    "TotalDistance_by_day = df_weekday.filter(['TotalDistance'])\n",
    "print(TotalDistance_by_day)"
   ]
  },
  {
   "cell_type": "code",
   "execution_count": 42,
   "id": "d20b0397-0602-4c13-8fa7-fe44d37e139e",
   "metadata": {},
   "outputs": [],
   "source": [
    "#plot scatterplot to observe relationship between total steps taken and the calories burnt "
   ]
  },
  {
   "cell_type": "code",
   "execution_count": 43,
   "id": "5d26e53d-16d1-4334-941e-9fcfca77f2ea",
   "metadata": {},
   "outputs": [
    {
     "data": {
      "image/png": "[encoded data removed]",
      "text/plain": [
       "<Figure size 1200x600 with 1 Axes>"
      ]
     },
     "metadata": {},
     "output_type": "display_data"
    }
   ],
   "source": [
    "df.plot.scatter(x='TotalSteps', y='Calories', color= 'red', alpha = 0.5, figsize=(12,6))\n",
    "plt.title('Total steps vs Calories Burnt')\n",
    "plt.show()"
   ]
  },
  {
   "cell_type": "code",
   "execution_count": 44,
   "id": "fa1d7253-649a-40ac-b742-f7bd5ca91e22",
   "metadata": {},
   "outputs": [
    {
     "data": {
      "image/png": "[encoded data removed]",
      "text/plain": [
       "<Figure size 1200x600 with 1 Axes>"
      ]
     },
     "metadata": {},
     "output_type": "display_data"
    }
   ],
   "source": [
    "df.plot.scatter(x= 'TotalDistance', y= 'DayOfTheWeek', color= 'blue', alpha = 0.5, figsize=(12,6))\n",
    "plt.title('Total Distance vs Day of the weeek')\n",
    "plt.show()"
   ]
  },
  {
   "cell_type": "markdown",
   "id": "563a7572-4a6d-4f30-8e85-b602c17d402c",
   "metadata": {},
   "source": [
    "ANALYZE HOURLY STEPS AND HOURLY CALORIES DATA "
   ]
  },
  {
   "cell_type": "code",
   "execution_count": 46,
   "id": "6b6c49b9-b538-458e-adcf-9776f0772f48",
   "metadata": {},
   "outputs": [],
   "source": [
    "d = pd.read_csv('hourlySteps_merged.csv')\n",
    "d2 = pd.read_csv('hourlyCalories_merged.csv')"
   ]
  },
  {
   "cell_type": "code",
   "execution_count": 47,
   "id": "a1513876-e9e6-46b1-a789-301629d46871",
   "metadata": {},
   "outputs": [
    {
     "data": {
      "text/html": [
       "<div>\n",
       "<style scoped>\n",
       "    .dataframe tbody tr th:only-of-type {\n",
       "        vertical-align: middle;\n",
       "    }\n",
       "\n",
       "    .dataframe tbody tr th {\n",
       "        vertical-align: top;\n",
       "    }\n",
       "\n",
       "    .dataframe thead th {\n",
       "        text-align: right;\n",
       "    }\n",
       "</style>\n",
       "<table border=\"1\" class=\"dataframe\">\n",
       "  <thead>\n",
       "    <tr style=\"text-align: right;\">\n",
       "      <th></th>\n",
       "      <th>Id</th>\n",
       "      <th>ActivityHour</th>\n",
       "      <th>Calories</th>\n",
       "    </tr>\n",
       "  </thead>\n",
       "  <tbody>\n",
       "    <tr>\n",
       "      <th>0</th>\n",
       "      <td>1503960366</td>\n",
       "      <td>3/12/2016 12:00:00 AM</td>\n",
       "      <td>48</td>\n",
       "    </tr>\n",
       "    <tr>\n",
       "      <th>1</th>\n",
       "      <td>1503960366</td>\n",
       "      <td>3/12/2016 1:00:00 AM</td>\n",
       "      <td>48</td>\n",
       "    </tr>\n",
       "    <tr>\n",
       "      <th>2</th>\n",
       "      <td>1503960366</td>\n",
       "      <td>3/12/2016 2:00:00 AM</td>\n",
       "      <td>48</td>\n",
       "    </tr>\n",
       "    <tr>\n",
       "      <th>3</th>\n",
       "      <td>1503960366</td>\n",
       "      <td>3/12/2016 3:00:00 AM</td>\n",
       "      <td>48</td>\n",
       "    </tr>\n",
       "    <tr>\n",
       "      <th>4</th>\n",
       "      <td>1503960366</td>\n",
       "      <td>3/12/2016 4:00:00 AM</td>\n",
       "      <td>48</td>\n",
       "    </tr>\n",
       "  </tbody>\n",
       "</table>\n",
       "</div>"
      ],
      "text/plain": [
       "           Id           ActivityHour  Calories\n",
       "0  1503960366  3/12/2016 12:00:00 AM        48\n",
       "1  1503960366   3/12/2016 1:00:00 AM        48\n",
       "2  1503960366   3/12/2016 2:00:00 AM        48\n",
       "3  1503960366   3/12/2016 3:00:00 AM        48\n",
       "4  1503960366   3/12/2016 4:00:00 AM        48"
      ]
     },
     "execution_count": 47,
     "metadata": {},
     "output_type": "execute_result"
    }
   ],
   "source": [
    "d.head()\n",
    "d2.head()"
   ]
  },
  {
   "cell_type": "code",
   "execution_count": 48,
   "id": "081c050f-dbaf-47c5-9bbb-309c8687b051",
   "metadata": {},
   "outputs": [],
   "source": [
    "#observe for missing data "
   ]
  },
  {
   "cell_type": "code",
   "execution_count": 49,
   "id": "1ace0eb2-627a-411d-aace-c7b0fee75723",
   "metadata": {},
   "outputs": [
    {
     "data": {
      "text/plain": [
       "Id              0\n",
       "ActivityHour    0\n",
       "Calories        0\n",
       "dtype: int64"
      ]
     },
     "execution_count": 49,
     "metadata": {},
     "output_type": "execute_result"
    }
   ],
   "source": [
    "d.isnull().sum()\n",
    "d2.isnull().sum()"
   ]
  },
  {
   "cell_type": "code",
   "execution_count": 50,
   "id": "5d441a9b-9406-4fd9-b6a5-05b36951bfbf",
   "metadata": {},
   "outputs": [
    {
     "name": "stdout",
     "output_type": "stream",
     "text": [
      "<class 'pandas.core.frame.DataFrame'>\n",
      "RangeIndex: 24084 entries, 0 to 24083\n",
      "Data columns (total 3 columns):\n",
      " #   Column        Non-Null Count  Dtype \n",
      "---  ------        --------------  ----- \n",
      " 0   Id            24084 non-null  int64 \n",
      " 1   ActivityHour  24084 non-null  object\n",
      " 2   StepTotal     24084 non-null  int64 \n",
      "dtypes: int64(2), object(1)\n",
      "memory usage: 564.6+ KB\n",
      "<class 'pandas.core.frame.DataFrame'>\n",
      "RangeIndex: 24084 entries, 0 to 24083\n",
      "Data columns (total 3 columns):\n",
      " #   Column        Non-Null Count  Dtype \n",
      "---  ------        --------------  ----- \n",
      " 0   Id            24084 non-null  int64 \n",
      " 1   ActivityHour  24084 non-null  object\n",
      " 2   Calories      24084 non-null  int64 \n",
      "dtypes: int64(2), object(1)\n",
      "memory usage: 564.6+ KB\n"
     ]
    }
   ],
   "source": [
    "d.info()\n",
    "d2.info()"
   ]
  },
  {
   "cell_type": "code",
   "execution_count": 51,
   "id": "5ce9223d-484e-4726-98dd-62ed00e1fbd1",
   "metadata": {},
   "outputs": [
    {
     "name": "stdout",
     "output_type": "stream",
     "text": [
      "Id                34\n",
      "ActivityHour     755\n",
      "StepTotal       2216\n",
      "dtype: int64\n",
      "Id               34\n",
      "ActivityHour    755\n",
      "Calories        444\n",
      "dtype: int64\n"
     ]
    }
   ],
   "source": [
    "print(d.nunique())\n",
    "print(d2.nunique())"
   ]
  },
  {
   "cell_type": "code",
   "execution_count": 52,
   "id": "71063727-e668-40bd-9b81-bafeb7fd580b",
   "metadata": {},
   "outputs": [],
   "source": [
    "#analyze the data "
   ]
  },
  {
   "cell_type": "code",
   "execution_count": 53,
   "id": "93bdccea-c123-4277-a844-fcf2dd20514b",
   "metadata": {},
   "outputs": [
    {
     "data": {
      "text/html": [
       "<div>\n",
       "<style scoped>\n",
       "    .dataframe tbody tr th:only-of-type {\n",
       "        vertical-align: middle;\n",
       "    }\n",
       "\n",
       "    .dataframe tbody tr th {\n",
       "        vertical-align: top;\n",
       "    }\n",
       "\n",
       "    .dataframe thead th {\n",
       "        text-align: right;\n",
       "    }\n",
       "</style>\n",
       "<table border=\"1\" class=\"dataframe\">\n",
       "  <thead>\n",
       "    <tr style=\"text-align: right;\">\n",
       "      <th></th>\n",
       "      <th>Id</th>\n",
       "      <th>StepTotal</th>\n",
       "    </tr>\n",
       "  </thead>\n",
       "  <tbody>\n",
       "    <tr>\n",
       "      <th>count</th>\n",
       "      <td>2.408400e+04</td>\n",
       "      <td>24084.000000</td>\n",
       "    </tr>\n",
       "    <tr>\n",
       "      <th>mean</th>\n",
       "      <td>4.889424e+09</td>\n",
       "      <td>286.218693</td>\n",
       "    </tr>\n",
       "    <tr>\n",
       "      <th>std</th>\n",
       "      <td>2.421566e+09</td>\n",
       "      <td>664.924224</td>\n",
       "    </tr>\n",
       "    <tr>\n",
       "      <th>min</th>\n",
       "      <td>1.503960e+09</td>\n",
       "      <td>0.000000</td>\n",
       "    </tr>\n",
       "    <tr>\n",
       "      <th>25%</th>\n",
       "      <td>2.347168e+09</td>\n",
       "      <td>0.000000</td>\n",
       "    </tr>\n",
       "    <tr>\n",
       "      <th>50%</th>\n",
       "      <td>4.558610e+09</td>\n",
       "      <td>10.000000</td>\n",
       "    </tr>\n",
       "    <tr>\n",
       "      <th>75%</th>\n",
       "      <td>6.962181e+09</td>\n",
       "      <td>289.000000</td>\n",
       "    </tr>\n",
       "    <tr>\n",
       "      <th>max</th>\n",
       "      <td>8.877689e+09</td>\n",
       "      <td>10565.000000</td>\n",
       "    </tr>\n",
       "  </tbody>\n",
       "</table>\n",
       "</div>"
      ],
      "text/plain": [
       "                 Id     StepTotal\n",
       "count  2.408400e+04  24084.000000\n",
       "mean   4.889424e+09    286.218693\n",
       "std    2.421566e+09    664.924224\n",
       "min    1.503960e+09      0.000000\n",
       "25%    2.347168e+09      0.000000\n",
       "50%    4.558610e+09     10.000000\n",
       "75%    6.962181e+09    289.000000\n",
       "max    8.877689e+09  10565.000000"
      ]
     },
     "execution_count": 53,
     "metadata": {},
     "output_type": "execute_result"
    }
   ],
   "source": [
    "d.describe()"
   ]
  },
  {
   "cell_type": "code",
   "execution_count": 54,
   "id": "96ac8153-3ddf-4fc4-882c-cee201825d81",
   "metadata": {},
   "outputs": [
    {
     "data": {
      "text/html": [
       "<div>\n",
       "<style scoped>\n",
       "    .dataframe tbody tr th:only-of-type {\n",
       "        vertical-align: middle;\n",
       "    }\n",
       "\n",
       "    .dataframe tbody tr th {\n",
       "        vertical-align: top;\n",
       "    }\n",
       "\n",
       "    .dataframe thead th {\n",
       "        text-align: right;\n",
       "    }\n",
       "</style>\n",
       "<table border=\"1\" class=\"dataframe\">\n",
       "  <thead>\n",
       "    <tr style=\"text-align: right;\">\n",
       "      <th></th>\n",
       "      <th>Id</th>\n",
       "      <th>Calories</th>\n",
       "    </tr>\n",
       "  </thead>\n",
       "  <tbody>\n",
       "    <tr>\n",
       "      <th>count</th>\n",
       "      <td>2.408400e+04</td>\n",
       "      <td>24084.000000</td>\n",
       "    </tr>\n",
       "    <tr>\n",
       "      <th>mean</th>\n",
       "      <td>4.889424e+09</td>\n",
       "      <td>94.266692</td>\n",
       "    </tr>\n",
       "    <tr>\n",
       "      <th>std</th>\n",
       "      <td>2.421566e+09</td>\n",
       "      <td>59.395711</td>\n",
       "    </tr>\n",
       "    <tr>\n",
       "      <th>min</th>\n",
       "      <td>1.503960e+09</td>\n",
       "      <td>42.000000</td>\n",
       "    </tr>\n",
       "    <tr>\n",
       "      <th>25%</th>\n",
       "      <td>2.347168e+09</td>\n",
       "      <td>61.000000</td>\n",
       "    </tr>\n",
       "    <tr>\n",
       "      <th>50%</th>\n",
       "      <td>4.558610e+09</td>\n",
       "      <td>77.000000</td>\n",
       "    </tr>\n",
       "    <tr>\n",
       "      <th>75%</th>\n",
       "      <td>6.962181e+09</td>\n",
       "      <td>104.000000</td>\n",
       "    </tr>\n",
       "    <tr>\n",
       "      <th>max</th>\n",
       "      <td>8.877689e+09</td>\n",
       "      <td>933.000000</td>\n",
       "    </tr>\n",
       "  </tbody>\n",
       "</table>\n",
       "</div>"
      ],
      "text/plain": [
       "                 Id      Calories\n",
       "count  2.408400e+04  24084.000000\n",
       "mean   4.889424e+09     94.266692\n",
       "std    2.421566e+09     59.395711\n",
       "min    1.503960e+09     42.000000\n",
       "25%    2.347168e+09     61.000000\n",
       "50%    4.558610e+09     77.000000\n",
       "75%    6.962181e+09    104.000000\n",
       "max    8.877689e+09    933.000000"
      ]
     },
     "execution_count": 54,
     "metadata": {},
     "output_type": "execute_result"
    }
   ],
   "source": [
    "d2.describe()"
   ]
  },
  {
   "cell_type": "code",
   "execution_count": 55,
   "id": "b081797f-c562-4898-8a1b-f8b47ecb2487",
   "metadata": {},
   "outputs": [],
   "source": [
    "#merge the two data for easy analysis "
   ]
  },
  {
   "cell_type": "code",
   "execution_count": 56,
   "id": "bf6cb8ec-cae3-4093-9e19-e0b69b6f563c",
   "metadata": {},
   "outputs": [],
   "source": [
    "merged_hours = pd.merge(d, d2, on= ['ActivityHour', 'Id'])"
   ]
  },
  {
   "cell_type": "code",
   "execution_count": 57,
   "id": "3ec8ba99-193b-4127-9176-73210f7e2aab",
   "metadata": {},
   "outputs": [],
   "source": [
    "#observe to see data has been merged "
   ]
  },
  {
   "cell_type": "code",
   "execution_count": 58,
   "id": "c0032221-2f0f-4eca-94a1-85bb2b95b2d8",
   "metadata": {},
   "outputs": [
    {
     "data": {
      "text/html": [
       "<div>\n",
       "<style scoped>\n",
       "    .dataframe tbody tr th:only-of-type {\n",
       "        vertical-align: middle;\n",
       "    }\n",
       "\n",
       "    .dataframe tbody tr th {\n",
       "        vertical-align: top;\n",
       "    }\n",
       "\n",
       "    .dataframe thead th {\n",
       "        text-align: right;\n",
       "    }\n",
       "</style>\n",
       "<table border=\"1\" class=\"dataframe\">\n",
       "  <thead>\n",
       "    <tr style=\"text-align: right;\">\n",
       "      <th></th>\n",
       "      <th>Id</th>\n",
       "      <th>ActivityHour</th>\n",
       "      <th>StepTotal</th>\n",
       "      <th>Calories</th>\n",
       "    </tr>\n",
       "  </thead>\n",
       "  <tbody>\n",
       "    <tr>\n",
       "      <th>0</th>\n",
       "      <td>1503960366</td>\n",
       "      <td>3/12/2016 12:00:00 AM</td>\n",
       "      <td>0</td>\n",
       "      <td>48</td>\n",
       "    </tr>\n",
       "    <tr>\n",
       "      <th>1</th>\n",
       "      <td>1503960366</td>\n",
       "      <td>3/12/2016 1:00:00 AM</td>\n",
       "      <td>0</td>\n",
       "      <td>48</td>\n",
       "    </tr>\n",
       "    <tr>\n",
       "      <th>2</th>\n",
       "      <td>1503960366</td>\n",
       "      <td>3/12/2016 2:00:00 AM</td>\n",
       "      <td>0</td>\n",
       "      <td>48</td>\n",
       "    </tr>\n",
       "    <tr>\n",
       "      <th>3</th>\n",
       "      <td>1503960366</td>\n",
       "      <td>3/12/2016 3:00:00 AM</td>\n",
       "      <td>0</td>\n",
       "      <td>48</td>\n",
       "    </tr>\n",
       "    <tr>\n",
       "      <th>4</th>\n",
       "      <td>1503960366</td>\n",
       "      <td>3/12/2016 4:00:00 AM</td>\n",
       "      <td>0</td>\n",
       "      <td>48</td>\n",
       "    </tr>\n",
       "  </tbody>\n",
       "</table>\n",
       "</div>"
      ],
      "text/plain": [
       "           Id           ActivityHour  StepTotal  Calories\n",
       "0  1503960366  3/12/2016 12:00:00 AM          0        48\n",
       "1  1503960366   3/12/2016 1:00:00 AM          0        48\n",
       "2  1503960366   3/12/2016 2:00:00 AM          0        48\n",
       "3  1503960366   3/12/2016 3:00:00 AM          0        48\n",
       "4  1503960366   3/12/2016 4:00:00 AM          0        48"
      ]
     },
     "execution_count": 58,
     "metadata": {},
     "output_type": "execute_result"
    }
   ],
   "source": [
    "merged_hours.head()"
   ]
  },
  {
   "cell_type": "code",
   "execution_count": 59,
   "id": "a727257a-3ba6-4315-a238-1cfe057c8f3c",
   "metadata": {},
   "outputs": [],
   "source": [
    "#change activity hour to include day of the week and hour column "
   ]
  },
  {
   "cell_type": "code",
   "execution_count": 60,
   "id": "b24ef05b-f11e-435c-b37c-381a416fbe67",
   "metadata": {},
   "outputs": [],
   "source": [
    "merged_hours['ActivityDate'] = pd.to_datetime(d['ActivityHour'], format='%m/%d/%Y %I:%M:%S %p')"
   ]
  },
  {
   "cell_type": "code",
   "execution_count": 61,
   "id": "0a008b21-e37b-4dd3-8ab0-76bd29b25c9b",
   "metadata": {},
   "outputs": [],
   "source": [
    "merged_hours['DayOfTheWeek']= pd.to_datetime(merged_hours['ActivityDate'])\n",
    "merged_hours['DayOfTheWeek'] = merged_hours['ActivityDate'].dt.day_name()\n",
    "merged_hours['ActivityHour'] = pd.to_datetime(merged_hours['ActivityHour'], format='%m/%d/%Y %I:%M:%S %p')\n",
    "merged_hours['Hour'] = merged_hours['ActivityHour'].dt.hour\n",
    "\n"
   ]
  },
  {
   "cell_type": "code",
   "execution_count": 62,
   "id": "416a9437-174d-4860-a60b-18af6134a68d",
   "metadata": {},
   "outputs": [],
   "source": [
    "#observe changes has been made "
   ]
  },
  {
   "cell_type": "code",
   "execution_count": 63,
   "id": "33c67d41-cb02-465a-b93b-aca7e862400f",
   "metadata": {},
   "outputs": [
    {
     "data": {
      "text/html": [
       "<div>\n",
       "<style scoped>\n",
       "    .dataframe tbody tr th:only-of-type {\n",
       "        vertical-align: middle;\n",
       "    }\n",
       "\n",
       "    .dataframe tbody tr th {\n",
       "        vertical-align: top;\n",
       "    }\n",
       "\n",
       "    .dataframe thead th {\n",
       "        text-align: right;\n",
       "    }\n",
       "</style>\n",
       "<table border=\"1\" class=\"dataframe\">\n",
       "  <thead>\n",
       "    <tr style=\"text-align: right;\">\n",
       "      <th></th>\n",
       "      <th>Id</th>\n",
       "      <th>ActivityHour</th>\n",
       "      <th>StepTotal</th>\n",
       "      <th>Calories</th>\n",
       "      <th>ActivityDate</th>\n",
       "      <th>DayOfTheWeek</th>\n",
       "      <th>Hour</th>\n",
       "    </tr>\n",
       "  </thead>\n",
       "  <tbody>\n",
       "    <tr>\n",
       "      <th>0</th>\n",
       "      <td>1503960366</td>\n",
       "      <td>2016-03-12 00:00:00</td>\n",
       "      <td>0</td>\n",
       "      <td>48</td>\n",
       "      <td>2016-03-12 00:00:00</td>\n",
       "      <td>Saturday</td>\n",
       "      <td>0</td>\n",
       "    </tr>\n",
       "    <tr>\n",
       "      <th>1</th>\n",
       "      <td>1503960366</td>\n",
       "      <td>2016-03-12 01:00:00</td>\n",
       "      <td>0</td>\n",
       "      <td>48</td>\n",
       "      <td>2016-03-12 01:00:00</td>\n",
       "      <td>Saturday</td>\n",
       "      <td>1</td>\n",
       "    </tr>\n",
       "    <tr>\n",
       "      <th>2</th>\n",
       "      <td>1503960366</td>\n",
       "      <td>2016-03-12 02:00:00</td>\n",
       "      <td>0</td>\n",
       "      <td>48</td>\n",
       "      <td>2016-03-12 02:00:00</td>\n",
       "      <td>Saturday</td>\n",
       "      <td>2</td>\n",
       "    </tr>\n",
       "    <tr>\n",
       "      <th>3</th>\n",
       "      <td>1503960366</td>\n",
       "      <td>2016-03-12 03:00:00</td>\n",
       "      <td>0</td>\n",
       "      <td>48</td>\n",
       "      <td>2016-03-12 03:00:00</td>\n",
       "      <td>Saturday</td>\n",
       "      <td>3</td>\n",
       "    </tr>\n",
       "    <tr>\n",
       "      <th>4</th>\n",
       "      <td>1503960366</td>\n",
       "      <td>2016-03-12 04:00:00</td>\n",
       "      <td>0</td>\n",
       "      <td>48</td>\n",
       "      <td>2016-03-12 04:00:00</td>\n",
       "      <td>Saturday</td>\n",
       "      <td>4</td>\n",
       "    </tr>\n",
       "  </tbody>\n",
       "</table>\n",
       "</div>"
      ],
      "text/plain": [
       "           Id        ActivityHour  StepTotal  Calories        ActivityDate  \\\n",
       "0  1503960366 2016-03-12 00:00:00          0        48 2016-03-12 00:00:00   \n",
       "1  1503960366 2016-03-12 01:00:00          0        48 2016-03-12 01:00:00   \n",
       "2  1503960366 2016-03-12 02:00:00          0        48 2016-03-12 02:00:00   \n",
       "3  1503960366 2016-03-12 03:00:00          0        48 2016-03-12 03:00:00   \n",
       "4  1503960366 2016-03-12 04:00:00          0        48 2016-03-12 04:00:00   \n",
       "\n",
       "  DayOfTheWeek  Hour  \n",
       "0     Saturday     0  \n",
       "1     Saturday     1  \n",
       "2     Saturday     2  \n",
       "3     Saturday     3  \n",
       "4     Saturday     4  "
      ]
     },
     "execution_count": 63,
     "metadata": {},
     "output_type": "execute_result"
    }
   ],
   "source": [
    "merged_hours.head()"
   ]
  },
  {
   "cell_type": "code",
   "execution_count": 64,
   "id": "c38a562e-ee66-4395-964a-0cc2c592a69f",
   "metadata": {},
   "outputs": [],
   "source": [
    "#observe the average calories by the hour "
   ]
  },
  {
   "cell_type": "code",
   "execution_count": 65,
   "id": "4587cefc-37ad-41b4-9f1d-2f46e4ec538f",
   "metadata": {},
   "outputs": [
    {
     "data": {
      "text/plain": [
       "ActivityHour\n",
       "0      72.401567\n",
       "1      69.606268\n",
       "2      68.124388\n",
       "3      67.559372\n",
       "4      67.770138\n",
       "5      77.998033\n",
       "6      80.821850\n",
       "7      90.598619\n",
       "8      98.038576\n",
       "9     106.346535\n",
       "10    106.392607\n",
       "11    108.228686\n",
       "12    113.579317\n",
       "13    108.553213\n",
       "14    111.433735\n",
       "15    105.697487\n",
       "16    110.272362\n",
       "17    112.298793\n",
       "18    115.164149\n",
       "19    116.328298\n",
       "20    104.263370\n",
       "21     92.558022\n",
       "22     84.809091\n",
       "23     76.998988\n",
       "Name: Calories, dtype: float64"
      ]
     },
     "execution_count": 65,
     "metadata": {},
     "output_type": "execute_result"
    }
   ],
   "source": [
    "merged_hours.groupby(merged_hours['ActivityHour'].dt.hour)['Calories'].mean()"
   ]
  },
  {
   "cell_type": "code",
   "execution_count": 66,
   "id": "d253d327-a472-432f-ad0f-a52c0436f7e9",
   "metadata": {},
   "outputs": [],
   "source": [
    "#observe the average total steps by the hour "
   ]
  },
  {
   "cell_type": "code",
   "execution_count": 67,
   "id": "bf12e36f-32df-4603-92fd-280a2d81a495",
   "metadata": {},
   "outputs": [
    {
     "data": {
      "text/plain": [
       "ActivityHour\n",
       "0      44.421156\n",
       "1      20.484819\n",
       "2      10.588639\n",
       "3       7.312071\n",
       "4       9.755403\n",
       "5      26.113078\n",
       "6     120.164370\n",
       "7     267.120316\n",
       "8     365.596439\n",
       "9     430.258416\n",
       "10    437.004995\n",
       "11    452.745236\n",
       "12    520.944779\n",
       "13    457.882530\n",
       "14    474.124498\n",
       "15    390.469347\n",
       "16    447.366834\n",
       "17    453.663984\n",
       "18    505.646526\n",
       "19    528.878147\n",
       "20    399.317861\n",
       "21    261.009082\n",
       "22    172.983838\n",
       "23    102.901822\n",
       "Name: StepTotal, dtype: float64"
      ]
     },
     "execution_count": 67,
     "metadata": {},
     "output_type": "execute_result"
    }
   ],
   "source": [
    "merged_hours.groupby(merged_hours['ActivityHour'].dt.hour)['StepTotal'].mean()"
   ]
  },
  {
   "cell_type": "code",
   "execution_count": 68,
   "id": "3a95f3c7-ad27-424c-9398-e3621f202703",
   "metadata": {},
   "outputs": [],
   "source": [
    "#plot a graph showing the calories burnt by the time of the day "
   ]
  },
  {
   "cell_type": "code",
   "execution_count": 69,
   "id": "c11ecfde-cbf9-4a5f-a8b0-8c91b589824d",
   "metadata": {},
   "outputs": [
    {
     "data": {
      "image/png": "[encoded data removed]",
      "text/plain": [
       "<Figure size 1500x600 with 1 Axes>"
      ]
     },
     "metadata": {},
     "output_type": "display_data"
    }
   ],
   "source": [
    "fig, axs = plt.subplots(figsize=(15, 6))\n",
    "merged_hours.groupby(merged_hours['ActivityHour'].dt.hour)['Calories'].mean().plot(kind='bar', rot=0, ax=axs, color='red', title='Calories burnt by Time of the day')\n",
    "plt.xlabel(\"Hour of the day\")\n",
    "plt.ylabel(\"Calories burnt\")\n",
    "plt.show()"
   ]
  },
  {
   "cell_type": "code",
   "execution_count": 70,
   "id": "2773a573-e103-4923-8077-d74ec44ee0e3",
   "metadata": {},
   "outputs": [],
   "source": [
    "#plot a graph showing the steps taken by the hour "
   ]
  },
  {
   "cell_type": "code",
   "execution_count": 71,
   "id": "4983ae92-4089-4477-9906-17c49a367d9f",
   "metadata": {},
   "outputs": [
    {
     "data": {
      "image/png": "[encoded data removed]",
      "text/plain": [
       "<Figure size 1500x600 with 1 Axes>"
      ]
     },
     "metadata": {},
     "output_type": "display_data"
    }
   ],
   "source": [
    "fig, axs = plt.subplots(figsize=(15, 6))\n",
    "merged_hours.groupby(merged_hours['ActivityHour'].dt.hour)['StepTotal'].mean().plot(kind='bar', rot=0, ax=axs, color='green', title='Busiest time of the day')\n",
    "plt.xlabel(\"Hour of the day\")\n",
    "plt.ylabel(\"Steps Taken\")\n",
    "plt.show()"
   ]
  },
  {
   "cell_type": "code",
   "execution_count": 72,
   "id": "8059b3fb-54f6-405f-87c0-1d79f4826abd",
   "metadata": {},
   "outputs": [],
   "source": [
    "#plot a graph of the steps taken by the day of the week"
   ]
  },
  {
   "cell_type": "code",
   "execution_count": 73,
   "id": "54c89136-000d-4c03-b88a-346425003f97",
   "metadata": {},
   "outputs": [
    {
     "data": {
      "image/png": "[encoded data removed]",
      "text/plain": [
       "<Figure size 1500x600 with 1 Axes>"
      ]
     },
     "metadata": {},
     "output_type": "display_data"
    }
   ],
   "source": [
    "fig, axs = plt.subplots(figsize=(15, 6))\n",
    "merged_hours.groupby(merged_hours['DayOfTheWeek'])['StepTotal'].mean().plot(kind='bar', rot=0, ax=axs, color='green', title='Busiest day of the week')\n",
    "plt.xlabel(\"day of the week\")\n",
    "plt.ylabel(\"Steps Taken\")\n",
    "plt.show()"
   ]
  },
  {
   "cell_type": "markdown",
   "id": "887e8998-6563-4fc3-9a9d-7c2e0febe870",
   "metadata": {},
   "source": [
    "OBSERVING THE HEART RATE DATA "
   ]
  },
  {
   "cell_type": "code",
   "execution_count": 75,
   "id": "85f8e14c-504b-4d9f-97b5-1fe23bd3b64f",
   "metadata": {},
   "outputs": [],
   "source": [
    "d3 = pd.read_csv('heartrate_seconds_merged.csv')"
   ]
  },
  {
   "cell_type": "code",
   "execution_count": 76,
   "id": "bb4bffed-dccb-4ccf-99ff-b2eb8cf34ae1",
   "metadata": {},
   "outputs": [
    {
     "data": {
      "text/html": [
       "<div>\n",
       "<style scoped>\n",
       "    .dataframe tbody tr th:only-of-type {\n",
       "        vertical-align: middle;\n",
       "    }\n",
       "\n",
       "    .dataframe tbody tr th {\n",
       "        vertical-align: top;\n",
       "    }\n",
       "\n",
       "    .dataframe thead th {\n",
       "        text-align: right;\n",
       "    }\n",
       "</style>\n",
       "<table border=\"1\" class=\"dataframe\">\n",
       "  <thead>\n",
       "    <tr style=\"text-align: right;\">\n",
       "      <th></th>\n",
       "      <th>Id</th>\n",
       "      <th>Time</th>\n",
       "      <th>Value</th>\n",
       "    </tr>\n",
       "  </thead>\n",
       "  <tbody>\n",
       "    <tr>\n",
       "      <th>0</th>\n",
       "      <td>2022484408</td>\n",
       "      <td>4/1/2016 7:54:00 AM</td>\n",
       "      <td>93</td>\n",
       "    </tr>\n",
       "    <tr>\n",
       "      <th>1</th>\n",
       "      <td>2022484408</td>\n",
       "      <td>4/1/2016 7:54:05 AM</td>\n",
       "      <td>91</td>\n",
       "    </tr>\n",
       "    <tr>\n",
       "      <th>2</th>\n",
       "      <td>2022484408</td>\n",
       "      <td>4/1/2016 7:54:10 AM</td>\n",
       "      <td>96</td>\n",
       "    </tr>\n",
       "    <tr>\n",
       "      <th>3</th>\n",
       "      <td>2022484408</td>\n",
       "      <td>4/1/2016 7:54:15 AM</td>\n",
       "      <td>98</td>\n",
       "    </tr>\n",
       "    <tr>\n",
       "      <th>4</th>\n",
       "      <td>2022484408</td>\n",
       "      <td>4/1/2016 7:54:20 AM</td>\n",
       "      <td>100</td>\n",
       "    </tr>\n",
       "  </tbody>\n",
       "</table>\n",
       "</div>"
      ],
      "text/plain": [
       "           Id                 Time  Value\n",
       "0  2022484408  4/1/2016 7:54:00 AM     93\n",
       "1  2022484408  4/1/2016 7:54:05 AM     91\n",
       "2  2022484408  4/1/2016 7:54:10 AM     96\n",
       "3  2022484408  4/1/2016 7:54:15 AM     98\n",
       "4  2022484408  4/1/2016 7:54:20 AM    100"
      ]
     },
     "execution_count": 76,
     "metadata": {},
     "output_type": "execute_result"
    }
   ],
   "source": [
    "d3.head()"
   ]
  },
  {
   "cell_type": "code",
   "execution_count": 77,
   "id": "dc702e13-a78d-456d-aa9c-99267a73f0ea",
   "metadata": {},
   "outputs": [],
   "source": [
    " #check for missing data "
   ]
  },
  {
   "cell_type": "code",
   "execution_count": 78,
   "id": "7de1648e-6b2e-4ca6-957a-363a0be5720c",
   "metadata": {},
   "outputs": [
    {
     "data": {
      "text/plain": [
       "Id       0\n",
       "Time     0\n",
       "Value    0\n",
       "dtype: int64"
      ]
     },
     "execution_count": 78,
     "metadata": {},
     "output_type": "execute_result"
    }
   ],
   "source": [
    "d3.isnull().sum()"
   ]
  },
  {
   "cell_type": "code",
   "execution_count": 79,
   "id": "227fa13a-4f11-41bc-8980-437e52916a99",
   "metadata": {},
   "outputs": [
    {
     "name": "stdout",
     "output_type": "stream",
     "text": [
      "<class 'pandas.core.frame.DataFrame'>\n",
      "RangeIndex: 1154681 entries, 0 to 1154680\n",
      "Data columns (total 3 columns):\n",
      " #   Column  Non-Null Count    Dtype \n",
      "---  ------  --------------    ----- \n",
      " 0   Id      1154681 non-null  int64 \n",
      " 1   Time    1154681 non-null  object\n",
      " 2   Value   1154681 non-null  int64 \n",
      "dtypes: int64(2), object(1)\n",
      "memory usage: 26.4+ MB\n"
     ]
    }
   ],
   "source": [
    "d3.info()"
   ]
  },
  {
   "cell_type": "code",
   "execution_count": 80,
   "id": "dca91c2d-457e-463c-8426-5cd1a365e826",
   "metadata": {},
   "outputs": [],
   "source": [
    "#data wrangling and manipulation"
   ]
  },
  {
   "cell_type": "code",
   "execution_count": 81,
   "id": "1ae6cc70-40b6-4759-90ee-409fd46ca2a0",
   "metadata": {},
   "outputs": [],
   "source": [
    "d3['Date'] = pd.to_datetime(d3['Time'])"
   ]
  },
  {
   "cell_type": "code",
   "execution_count": 82,
   "id": "13e4b723-6c6e-428e-9d27-8516af6c0d7e",
   "metadata": {},
   "outputs": [],
   "source": [
    "d3['DayOfTheWeek']= pd.to_datetime(d3['Date'])\n",
    "d3['DayOfTheWeek'] = d3['Date'].dt.day_name()\n",
    "d3['ActivityHour'] = pd.to_datetime(d3['Date'], format='%I:%M:%S %p')\n",
    "d3['Hour'] = d3['ActivityHour'].dt.hour"
   ]
  },
  {
   "cell_type": "code",
   "execution_count": 83,
   "id": "7330b27c-cc9e-4610-8587-1f72ec379fc2",
   "metadata": {},
   "outputs": [],
   "source": [
    "#observe to see if the changes has been made "
   ]
  },
  {
   "cell_type": "code",
   "execution_count": 84,
   "id": "4d58f3dc-d82c-4251-acce-70c181b230e7",
   "metadata": {},
   "outputs": [
    {
     "data": {
      "text/html": [
       "<div>\n",
       "<style scoped>\n",
       "    .dataframe tbody tr th:only-of-type {\n",
       "        vertical-align: middle;\n",
       "    }\n",
       "\n",
       "    .dataframe tbody tr th {\n",
       "        vertical-align: top;\n",
       "    }\n",
       "\n",
       "    .dataframe thead th {\n",
       "        text-align: right;\n",
       "    }\n",
       "</style>\n",
       "<table border=\"1\" class=\"dataframe\">\n",
       "  <thead>\n",
       "    <tr style=\"text-align: right;\">\n",
       "      <th></th>\n",
       "      <th>Id</th>\n",
       "      <th>Time</th>\n",
       "      <th>Value</th>\n",
       "      <th>Date</th>\n",
       "      <th>DayOfTheWeek</th>\n",
       "      <th>ActivityHour</th>\n",
       "      <th>Hour</th>\n",
       "    </tr>\n",
       "  </thead>\n",
       "  <tbody>\n",
       "    <tr>\n",
       "      <th>0</th>\n",
       "      <td>2022484408</td>\n",
       "      <td>4/1/2016 7:54:00 AM</td>\n",
       "      <td>93</td>\n",
       "      <td>2016-04-01 07:54:00</td>\n",
       "      <td>Friday</td>\n",
       "      <td>2016-04-01 07:54:00</td>\n",
       "      <td>7</td>\n",
       "    </tr>\n",
       "    <tr>\n",
       "      <th>1</th>\n",
       "      <td>2022484408</td>\n",
       "      <td>4/1/2016 7:54:05 AM</td>\n",
       "      <td>91</td>\n",
       "      <td>2016-04-01 07:54:05</td>\n",
       "      <td>Friday</td>\n",
       "      <td>2016-04-01 07:54:05</td>\n",
       "      <td>7</td>\n",
       "    </tr>\n",
       "    <tr>\n",
       "      <th>2</th>\n",
       "      <td>2022484408</td>\n",
       "      <td>4/1/2016 7:54:10 AM</td>\n",
       "      <td>96</td>\n",
       "      <td>2016-04-01 07:54:10</td>\n",
       "      <td>Friday</td>\n",
       "      <td>2016-04-01 07:54:10</td>\n",
       "      <td>7</td>\n",
       "    </tr>\n",
       "    <tr>\n",
       "      <th>3</th>\n",
       "      <td>2022484408</td>\n",
       "      <td>4/1/2016 7:54:15 AM</td>\n",
       "      <td>98</td>\n",
       "      <td>2016-04-01 07:54:15</td>\n",
       "      <td>Friday</td>\n",
       "      <td>2016-04-01 07:54:15</td>\n",
       "      <td>7</td>\n",
       "    </tr>\n",
       "    <tr>\n",
       "      <th>4</th>\n",
       "      <td>2022484408</td>\n",
       "      <td>4/1/2016 7:54:20 AM</td>\n",
       "      <td>100</td>\n",
       "      <td>2016-04-01 07:54:20</td>\n",
       "      <td>Friday</td>\n",
       "      <td>2016-04-01 07:54:20</td>\n",
       "      <td>7</td>\n",
       "    </tr>\n",
       "  </tbody>\n",
       "</table>\n",
       "</div>"
      ],
      "text/plain": [
       "           Id                 Time  Value                Date DayOfTheWeek  \\\n",
       "0  2022484408  4/1/2016 7:54:00 AM     93 2016-04-01 07:54:00       Friday   \n",
       "1  2022484408  4/1/2016 7:54:05 AM     91 2016-04-01 07:54:05       Friday   \n",
       "2  2022484408  4/1/2016 7:54:10 AM     96 2016-04-01 07:54:10       Friday   \n",
       "3  2022484408  4/1/2016 7:54:15 AM     98 2016-04-01 07:54:15       Friday   \n",
       "4  2022484408  4/1/2016 7:54:20 AM    100 2016-04-01 07:54:20       Friday   \n",
       "\n",
       "         ActivityHour  Hour  \n",
       "0 2016-04-01 07:54:00     7  \n",
       "1 2016-04-01 07:54:05     7  \n",
       "2 2016-04-01 07:54:10     7  \n",
       "3 2016-04-01 07:54:15     7  \n",
       "4 2016-04-01 07:54:20     7  "
      ]
     },
     "execution_count": 84,
     "metadata": {},
     "output_type": "execute_result"
    }
   ],
   "source": [
    "d3.head()"
   ]
  },
  {
   "cell_type": "code",
   "execution_count": 85,
   "id": "9c698447-5db9-4316-8e2c-c38e5e4aeb2f",
   "metadata": {},
   "outputs": [],
   "source": [
    "#plot a graph showing the heart rate by the day of the week"
   ]
  },
  {
   "cell_type": "code",
   "execution_count": 86,
   "id": "e9fbd67b-8904-4beb-83a0-77ea98668a6f",
   "metadata": {},
   "outputs": [
    {
     "data": {
      "image/png": "[encoded data removed]",
      "text/plain": [
       "<Figure size 1500x600 with 1 Axes>"
      ]
     },
     "metadata": {},
     "output_type": "display_data"
    }
   ],
   "source": [
    "fig, axs = plt.subplots(figsize=(15, 6))\n",
    "d3.groupby(d3['DayOfTheWeek'])['Value'].mean().plot(kind='bar', rot=0, ax=axs, color='purple', title='heart rate by the day of the week')\n",
    "plt.xlabel(\"day of the week\")\n",
    "plt.ylabel(\"Value\")\n",
    "plt.show()"
   ]
  },
  {
   "cell_type": "code",
   "execution_count": 87,
   "id": "186c9c61-f517-496e-9bf3-fcf6067ab023",
   "metadata": {},
   "outputs": [],
   "source": [
    "#plot a graph to show the heart rate by the hour "
   ]
  },
  {
   "cell_type": "code",
   "execution_count": 88,
   "id": "3345628a-4a68-40d2-ad94-15094b987f06",
   "metadata": {},
   "outputs": [
    {
     "data": {
      "image/png": "[encoded data removed]",
      "text/plain": [
       "<Figure size 1500x600 with 1 Axes>"
      ]
     },
     "metadata": {},
     "output_type": "display_data"
    }
   ],
   "source": [
    "mean_values = d3.groupby(d3['Hour'])['Value'].mean()\n",
    "\n",
    "# Step 2: Sort the mean values in descending order\n",
    "sorted_mean_values = mean_values.sort_values(ascending=False)\n",
    "\n",
    "# Step 3: Plot the sorted values\n",
    "fig, axs = plt.subplots(figsize=(15, 6))\n",
    "sorted_mean_values.plot(kind='bar', rot=0, ax=axs, color='blue', title='Busiest hour of the week')\n",
    "plt.xlabel(\"Hour\")\n",
    "plt.ylabel(\"Value\")\n",
    "plt.show()"
   ]
  },
  {
   "cell_type": "markdown",
   "id": "821e25df-026b-4f34-87b1-82b2acc9277b",
   "metadata": {},
   "source": [
    "ANALYZE SLEEP DATA "
   ]
  },
  {
   "cell_type": "code",
   "execution_count": 90,
   "id": "20c99b51-3f58-4176-bf3f-ba7ead96fada",
   "metadata": {},
   "outputs": [],
   "source": [
    "sleep_data = pd.read_csv('sleepDay_merged.csv')"
   ]
  },
  {
   "cell_type": "code",
   "execution_count": 91,
   "id": "563fac29-2518-49fd-9a8e-919f826fcb78",
   "metadata": {},
   "outputs": [
    {
     "data": {
      "text/html": [
       "<div>\n",
       "<style scoped>\n",
       "    .dataframe tbody tr th:only-of-type {\n",
       "        vertical-align: middle;\n",
       "    }\n",
       "\n",
       "    .dataframe tbody tr th {\n",
       "        vertical-align: top;\n",
       "    }\n",
       "\n",
       "    .dataframe thead th {\n",
       "        text-align: right;\n",
       "    }\n",
       "</style>\n",
       "<table border=\"1\" class=\"dataframe\">\n",
       "  <thead>\n",
       "    <tr style=\"text-align: right;\">\n",
       "      <th></th>\n",
       "      <th>Id</th>\n",
       "      <th>SleepDay</th>\n",
       "      <th>TotalSleepRecords</th>\n",
       "      <th>TotalMinutesAsleep</th>\n",
       "      <th>TotalTimeInBed</th>\n",
       "    </tr>\n",
       "  </thead>\n",
       "  <tbody>\n",
       "    <tr>\n",
       "      <th>0</th>\n",
       "      <td>1503960366</td>\n",
       "      <td>4/12/2016 12:00:00 AM</td>\n",
       "      <td>1</td>\n",
       "      <td>327</td>\n",
       "      <td>346</td>\n",
       "    </tr>\n",
       "    <tr>\n",
       "      <th>1</th>\n",
       "      <td>1503960366</td>\n",
       "      <td>4/13/2016 12:00:00 AM</td>\n",
       "      <td>2</td>\n",
       "      <td>384</td>\n",
       "      <td>407</td>\n",
       "    </tr>\n",
       "    <tr>\n",
       "      <th>2</th>\n",
       "      <td>1503960366</td>\n",
       "      <td>4/15/2016 12:00:00 AM</td>\n",
       "      <td>1</td>\n",
       "      <td>412</td>\n",
       "      <td>442</td>\n",
       "    </tr>\n",
       "    <tr>\n",
       "      <th>3</th>\n",
       "      <td>1503960366</td>\n",
       "      <td>4/16/2016 12:00:00 AM</td>\n",
       "      <td>2</td>\n",
       "      <td>340</td>\n",
       "      <td>367</td>\n",
       "    </tr>\n",
       "    <tr>\n",
       "      <th>4</th>\n",
       "      <td>1503960366</td>\n",
       "      <td>4/17/2016 12:00:00 AM</td>\n",
       "      <td>1</td>\n",
       "      <td>700</td>\n",
       "      <td>712</td>\n",
       "    </tr>\n",
       "  </tbody>\n",
       "</table>\n",
       "</div>"
      ],
      "text/plain": [
       "           Id               SleepDay  TotalSleepRecords  TotalMinutesAsleep  \\\n",
       "0  1503960366  4/12/2016 12:00:00 AM                  1                 327   \n",
       "1  1503960366  4/13/2016 12:00:00 AM                  2                 384   \n",
       "2  1503960366  4/15/2016 12:00:00 AM                  1                 412   \n",
       "3  1503960366  4/16/2016 12:00:00 AM                  2                 340   \n",
       "4  1503960366  4/17/2016 12:00:00 AM                  1                 700   \n",
       "\n",
       "   TotalTimeInBed  \n",
       "0             346  \n",
       "1             407  \n",
       "2             442  \n",
       "3             367  \n",
       "4             712  "
      ]
     },
     "execution_count": 91,
     "metadata": {},
     "output_type": "execute_result"
    }
   ],
   "source": [
    "sleep_data.head()"
   ]
  },
  {
   "cell_type": "code",
   "execution_count": 93,
   "id": "7d0aa1f1-b606-463a-a4a5-37c29f7bc020",
   "metadata": {},
   "outputs": [],
   "source": [
    "sleep_data['DayOfTheWeek']= pd.to_datetime(sleep_data['SleepDay'], format='%m/%d/%Y %I:%M:%S %p')\n",
    "sleep_data['Day'] = sleep_data['DayOfTheWeek'].dt.day_name()\n",
    "sleep_data['ActivityHour'] = pd.to_datetime(sleep_data['SleepDay'], format='%m/%d/%Y %I:%M:%S %p')\n",
    "sleep_data['Hour'] = sleep_data['DayOfTheWeek'].dt.hour"
   ]
  },
  {
   "cell_type": "code",
   "execution_count": 95,
   "id": "386e9e3e-8096-4238-b9e6-ffae1bd63c99",
   "metadata": {},
   "outputs": [
    {
     "data": {
      "text/html": [
       "<div>\n",
       "<style scoped>\n",
       "    .dataframe tbody tr th:only-of-type {\n",
       "        vertical-align: middle;\n",
       "    }\n",
       "\n",
       "    .dataframe tbody tr th {\n",
       "        vertical-align: top;\n",
       "    }\n",
       "\n",
       "    .dataframe thead th {\n",
       "        text-align: right;\n",
       "    }\n",
       "</style>\n",
       "<table border=\"1\" class=\"dataframe\">\n",
       "  <thead>\n",
       "    <tr style=\"text-align: right;\">\n",
       "      <th></th>\n",
       "      <th>Id</th>\n",
       "      <th>SleepDay</th>\n",
       "      <th>TotalSleepRecords</th>\n",
       "      <th>TotalMinutesAsleep</th>\n",
       "      <th>TotalTimeInBed</th>\n",
       "      <th>DayOfTheWeek</th>\n",
       "      <th>Day</th>\n",
       "      <th>ActivityHour</th>\n",
       "      <th>Hour</th>\n",
       "    </tr>\n",
       "  </thead>\n",
       "  <tbody>\n",
       "    <tr>\n",
       "      <th>0</th>\n",
       "      <td>1503960366</td>\n",
       "      <td>4/12/2016 12:00:00 AM</td>\n",
       "      <td>1</td>\n",
       "      <td>327</td>\n",
       "      <td>346</td>\n",
       "      <td>2016-04-12</td>\n",
       "      <td>Tuesday</td>\n",
       "      <td>2016-04-12</td>\n",
       "      <td>0</td>\n",
       "    </tr>\n",
       "    <tr>\n",
       "      <th>1</th>\n",
       "      <td>1503960366</td>\n",
       "      <td>4/13/2016 12:00:00 AM</td>\n",
       "      <td>2</td>\n",
       "      <td>384</td>\n",
       "      <td>407</td>\n",
       "      <td>2016-04-13</td>\n",
       "      <td>Wednesday</td>\n",
       "      <td>2016-04-13</td>\n",
       "      <td>0</td>\n",
       "    </tr>\n",
       "    <tr>\n",
       "      <th>2</th>\n",
       "      <td>1503960366</td>\n",
       "      <td>4/15/2016 12:00:00 AM</td>\n",
       "      <td>1</td>\n",
       "      <td>412</td>\n",
       "      <td>442</td>\n",
       "      <td>2016-04-15</td>\n",
       "      <td>Friday</td>\n",
       "      <td>2016-04-15</td>\n",
       "      <td>0</td>\n",
       "    </tr>\n",
       "    <tr>\n",
       "      <th>3</th>\n",
       "      <td>1503960366</td>\n",
       "      <td>4/16/2016 12:00:00 AM</td>\n",
       "      <td>2</td>\n",
       "      <td>340</td>\n",
       "      <td>367</td>\n",
       "      <td>2016-04-16</td>\n",
       "      <td>Saturday</td>\n",
       "      <td>2016-04-16</td>\n",
       "      <td>0</td>\n",
       "    </tr>\n",
       "    <tr>\n",
       "      <th>4</th>\n",
       "      <td>1503960366</td>\n",
       "      <td>4/17/2016 12:00:00 AM</td>\n",
       "      <td>1</td>\n",
       "      <td>700</td>\n",
       "      <td>712</td>\n",
       "      <td>2016-04-17</td>\n",
       "      <td>Sunday</td>\n",
       "      <td>2016-04-17</td>\n",
       "      <td>0</td>\n",
       "    </tr>\n",
       "  </tbody>\n",
       "</table>\n",
       "</div>"
      ],
      "text/plain": [
       "           Id               SleepDay  TotalSleepRecords  TotalMinutesAsleep  \\\n",
       "0  1503960366  4/12/2016 12:00:00 AM                  1                 327   \n",
       "1  1503960366  4/13/2016 12:00:00 AM                  2                 384   \n",
       "2  1503960366  4/15/2016 12:00:00 AM                  1                 412   \n",
       "3  1503960366  4/16/2016 12:00:00 AM                  2                 340   \n",
       "4  1503960366  4/17/2016 12:00:00 AM                  1                 700   \n",
       "\n",
       "   TotalTimeInBed DayOfTheWeek        Day ActivityHour  Hour  \n",
       "0             346   2016-04-12    Tuesday   2016-04-12     0  \n",
       "1             407   2016-04-13  Wednesday   2016-04-13     0  \n",
       "2             442   2016-04-15     Friday   2016-04-15     0  \n",
       "3             367   2016-04-16   Saturday   2016-04-16     0  \n",
       "4             712   2016-04-17     Sunday   2016-04-17     0  "
      ]
     },
     "execution_count": 95,
     "metadata": {},
     "output_type": "execute_result"
    }
   ],
   "source": [
    "sleep_data.head()"
   ]
  },
  {
   "cell_type": "code",
   "execution_count": null,
   "id": "436472eb-de9a-4ab2-ad72-78a4b0d646f4",
   "metadata": {},
   "outputs": [],
   "source": [
    "#view the relationship between total minutes asleep and total time in bed "
   ]
  },
  {
   "cell_type": "code",
   "execution_count": 97,
   "id": "06f6975b-bf59-4768-90e2-6406dbd88f6a",
   "metadata": {},
   "outputs": [
    {
     "data": {
      "image/png": "[encoded data removed]",
      "text/plain": [
       "<Figure size 1200x600 with 1 Axes>"
      ]
     },
     "metadata": {},
     "output_type": "display_data"
    }
   ],
   "source": [
    "sleep_data.plot.scatter(x='TotalMinutesAsleep', y='TotalTimeInBed', color= 'pink', alpha = 0.5, figsize=(12,6))\n",
    "plt.title('Total minutes asleep vs Time in bed')\n",
    "plt.show()"
   ]
  },
  {
   "cell_type": "code",
   "execution_count": 99,
   "id": "8740dc69-afb7-456d-a142-17657d7ba2d7",
   "metadata": {},
   "outputs": [],
   "source": [
    "#view the relationship between the total minutes asleep and the day of the week "
   ]
  },
  {
   "cell_type": "code",
   "execution_count": 101,
   "id": "3defd15d-dcd3-4c2e-9d44-4aa9f3c7846a",
   "metadata": {},
   "outputs": [
    {
     "data": {
      "image/png": "[encoded data removed]",
      "text/plain": [
       "<Figure size 1500x600 with 1 Axes>"
      ]
     },
     "metadata": {},
     "output_type": "display_data"
    }
   ],
   "source": [
    "fig, axs = plt.subplots(figsize=(15, 6))\n",
    "sleep_data.groupby(sleep_data['Day'])['TotalMinutesAsleep'].mean().plot(kind='bar', rot=0, ax=axs, color='pink', title='Total minutes asleep by the day of the week')\n",
    "plt.xlabel(\"Day\")\n",
    "plt.ylabel(\"TotalMinutesAsleep\")\n",
    "plt.show()"
   ]
  },
  {
   "cell_type": "markdown",
   "id": "5cbdd2ca-c186-47eb-b6a4-c96089ba1e0b",
   "metadata": {},
   "source": [
    "observe the weight data"
   ]
  },
  {
   "cell_type": "code",
   "execution_count": 104,
   "id": "48bb5d5e-2ae8-4a88-a0d2-0c48145980c5",
   "metadata": {},
   "outputs": [],
   "source": [
    "weight = pd.read_csv('WeightLogInfo_merged.csv')"
   ]
  },
  {
   "cell_type": "code",
   "execution_count": 106,
   "id": "d77e0181-a890-4d7a-a8a1-ea69a32dce47",
   "metadata": {},
   "outputs": [
    {
     "data": {
      "text/html": [
       "<div>\n",
       "<style scoped>\n",
       "    .dataframe tbody tr th:only-of-type {\n",
       "        vertical-align: middle;\n",
       "    }\n",
       "\n",
       "    .dataframe tbody tr th {\n",
       "        vertical-align: top;\n",
       "    }\n",
       "\n",
       "    .dataframe thead th {\n",
       "        text-align: right;\n",
       "    }\n",
       "</style>\n",
       "<table border=\"1\" class=\"dataframe\">\n",
       "  <thead>\n",
       "    <tr style=\"text-align: right;\">\n",
       "      <th></th>\n",
       "      <th>Id</th>\n",
       "      <th>Date</th>\n",
       "      <th>WeightKg</th>\n",
       "      <th>WeightPounds</th>\n",
       "      <th>Fat</th>\n",
       "      <th>BMI</th>\n",
       "      <th>IsManualReport</th>\n",
       "      <th>LogId</th>\n",
       "    </tr>\n",
       "  </thead>\n",
       "  <tbody>\n",
       "    <tr>\n",
       "      <th>0</th>\n",
       "      <td>1503960366</td>\n",
       "      <td>4/5/2016 11:59:59 PM</td>\n",
       "      <td>53.299999</td>\n",
       "      <td>117.506384</td>\n",
       "      <td>22.0</td>\n",
       "      <td>22.969999</td>\n",
       "      <td>True</td>\n",
       "      <td>1459900799000</td>\n",
       "    </tr>\n",
       "    <tr>\n",
       "      <th>1</th>\n",
       "      <td>1927972279</td>\n",
       "      <td>4/10/2016 6:33:26 PM</td>\n",
       "      <td>129.600006</td>\n",
       "      <td>285.719105</td>\n",
       "      <td>NaN</td>\n",
       "      <td>46.169998</td>\n",
       "      <td>False</td>\n",
       "      <td>1460313206000</td>\n",
       "    </tr>\n",
       "    <tr>\n",
       "      <th>2</th>\n",
       "      <td>2347167796</td>\n",
       "      <td>4/3/2016 11:59:59 PM</td>\n",
       "      <td>63.400002</td>\n",
       "      <td>139.773078</td>\n",
       "      <td>10.0</td>\n",
       "      <td>24.770000</td>\n",
       "      <td>True</td>\n",
       "      <td>1459727999000</td>\n",
       "    </tr>\n",
       "    <tr>\n",
       "      <th>3</th>\n",
       "      <td>2873212765</td>\n",
       "      <td>4/6/2016 11:59:59 PM</td>\n",
       "      <td>56.700001</td>\n",
       "      <td>125.002104</td>\n",
       "      <td>NaN</td>\n",
       "      <td>21.450001</td>\n",
       "      <td>True</td>\n",
       "      <td>1459987199000</td>\n",
       "    </tr>\n",
       "    <tr>\n",
       "      <th>4</th>\n",
       "      <td>2873212765</td>\n",
       "      <td>4/7/2016 11:59:59 PM</td>\n",
       "      <td>57.200001</td>\n",
       "      <td>126.104416</td>\n",
       "      <td>NaN</td>\n",
       "      <td>21.650000</td>\n",
       "      <td>True</td>\n",
       "      <td>1460073599000</td>\n",
       "    </tr>\n",
       "  </tbody>\n",
       "</table>\n",
       "</div>"
      ],
      "text/plain": [
       "           Id                  Date    WeightKg  WeightPounds   Fat  \\\n",
       "0  1503960366  4/5/2016 11:59:59 PM   53.299999    117.506384  22.0   \n",
       "1  1927972279  4/10/2016 6:33:26 PM  129.600006    285.719105   NaN   \n",
       "2  2347167796  4/3/2016 11:59:59 PM   63.400002    139.773078  10.0   \n",
       "3  2873212765  4/6/2016 11:59:59 PM   56.700001    125.002104   NaN   \n",
       "4  2873212765  4/7/2016 11:59:59 PM   57.200001    126.104416   NaN   \n",
       "\n",
       "         BMI  IsManualReport          LogId  \n",
       "0  22.969999            True  1459900799000  \n",
       "1  46.169998           False  1460313206000  \n",
       "2  24.770000            True  1459727999000  \n",
       "3  21.450001            True  1459987199000  \n",
       "4  21.650000            True  1460073599000  "
      ]
     },
     "execution_count": 106,
     "metadata": {},
     "output_type": "execute_result"
    }
   ],
   "source": [
    "weight.head()"
   ]
  },
  {
   "cell_type": "code",
   "execution_count": 108,
   "id": "e06e41a7-8378-4a07-ba62-7eafb5261623",
   "metadata": {},
   "outputs": [],
   "source": [
    "#Check for missing data "
   ]
  },
  {
   "cell_type": "code",
   "execution_count": 110,
   "id": "655a8029-ee82-4609-8859-e4efdea8e568",
   "metadata": {},
   "outputs": [
    {
     "data": {
      "text/plain": [
       "Id                 0\n",
       "Date               0\n",
       "WeightKg           0\n",
       "WeightPounds       0\n",
       "Fat               31\n",
       "BMI                0\n",
       "IsManualReport     0\n",
       "LogId              0\n",
       "dtype: int64"
      ]
     },
     "execution_count": 110,
     "metadata": {},
     "output_type": "execute_result"
    }
   ],
   "source": [
    "weight.isnull().sum()"
   ]
  },
  {
   "cell_type": "code",
   "execution_count": 112,
   "id": "01336ec0-b3c1-4de6-94dc-16ede00745ce",
   "metadata": {},
   "outputs": [],
   "source": [
    "weight['Fat'] = weight['Fat'].fillna(weight['Fat'].mean())"
   ]
  },
  {
   "cell_type": "code",
   "execution_count": 114,
   "id": "d7c37189-8199-40fb-9481-0e23b114906e",
   "metadata": {},
   "outputs": [],
   "source": [
    "#observe to see if the fat column has been filled with the mean "
   ]
  },
  {
   "cell_type": "code",
   "execution_count": 116,
   "id": "4267ccb7-44e6-4628-8b34-327274e0d39c",
   "metadata": {},
   "outputs": [
    {
     "data": {
      "text/plain": [
       "Id                0\n",
       "Date              0\n",
       "WeightKg          0\n",
       "WeightPounds      0\n",
       "Fat               0\n",
       "BMI               0\n",
       "IsManualReport    0\n",
       "LogId             0\n",
       "dtype: int64"
      ]
     },
     "execution_count": 116,
     "metadata": {},
     "output_type": "execute_result"
    }
   ],
   "source": [
    "weight.isnull().sum()"
   ]
  },
  {
   "cell_type": "code",
   "execution_count": 118,
   "id": "152a25ed-5310-4591-b30d-b5308fad6403",
   "metadata": {},
   "outputs": [],
   "source": [
    "#change the date format to include day of the week and hour "
   ]
  },
  {
   "cell_type": "code",
   "execution_count": 120,
   "id": "8faa8ddd-b112-416f-8717-abcc9a01b690",
   "metadata": {},
   "outputs": [],
   "source": [
    "weight['DayOfTheWeek']= pd.to_datetime(weight['Date'], format='%m/%d/%Y %I:%M:%S %p')\n",
    "weight['Day'] = weight['DayOfTheWeek'].dt.day_name()\n",
    "weight['ActivityHour'] = pd.to_datetime(weight['Date'], format='%m/%d/%Y %I:%M:%S %p')\n",
    "weight['Hour'] = weight['ActivityHour'].dt.hour"
   ]
  },
  {
   "cell_type": "code",
   "execution_count": 122,
   "id": "ebc4ea35-3efd-4632-b832-d1be37af4028",
   "metadata": {},
   "outputs": [
    {
     "data": {
      "text/html": [
       "<div>\n",
       "<style scoped>\n",
       "    .dataframe tbody tr th:only-of-type {\n",
       "        vertical-align: middle;\n",
       "    }\n",
       "\n",
       "    .dataframe tbody tr th {\n",
       "        vertical-align: top;\n",
       "    }\n",
       "\n",
       "    .dataframe thead th {\n",
       "        text-align: right;\n",
       "    }\n",
       "</style>\n",
       "<table border=\"1\" class=\"dataframe\">\n",
       "  <thead>\n",
       "    <tr style=\"text-align: right;\">\n",
       "      <th></th>\n",
       "      <th>Id</th>\n",
       "      <th>Date</th>\n",
       "      <th>WeightKg</th>\n",
       "      <th>WeightPounds</th>\n",
       "      <th>Fat</th>\n",
       "      <th>BMI</th>\n",
       "      <th>IsManualReport</th>\n",
       "      <th>LogId</th>\n",
       "      <th>DayOfTheWeek</th>\n",
       "      <th>Day</th>\n",
       "      <th>ActivityHour</th>\n",
       "      <th>Hour</th>\n",
       "    </tr>\n",
       "  </thead>\n",
       "  <tbody>\n",
       "    <tr>\n",
       "      <th>0</th>\n",
       "      <td>1503960366</td>\n",
       "      <td>4/5/2016 11:59:59 PM</td>\n",
       "      <td>53.299999</td>\n",
       "      <td>117.506384</td>\n",
       "      <td>22.0</td>\n",
       "      <td>22.969999</td>\n",
       "      <td>True</td>\n",
       "      <td>1459900799000</td>\n",
       "      <td>2016-04-05 23:59:59</td>\n",
       "      <td>Tuesday</td>\n",
       "      <td>2016-04-05 23:59:59</td>\n",
       "      <td>23</td>\n",
       "    </tr>\n",
       "    <tr>\n",
       "      <th>1</th>\n",
       "      <td>1927972279</td>\n",
       "      <td>4/10/2016 6:33:26 PM</td>\n",
       "      <td>129.600006</td>\n",
       "      <td>285.719105</td>\n",
       "      <td>16.0</td>\n",
       "      <td>46.169998</td>\n",
       "      <td>False</td>\n",
       "      <td>1460313206000</td>\n",
       "      <td>2016-04-10 18:33:26</td>\n",
       "      <td>Sunday</td>\n",
       "      <td>2016-04-10 18:33:26</td>\n",
       "      <td>18</td>\n",
       "    </tr>\n",
       "    <tr>\n",
       "      <th>2</th>\n",
       "      <td>2347167796</td>\n",
       "      <td>4/3/2016 11:59:59 PM</td>\n",
       "      <td>63.400002</td>\n",
       "      <td>139.773078</td>\n",
       "      <td>10.0</td>\n",
       "      <td>24.770000</td>\n",
       "      <td>True</td>\n",
       "      <td>1459727999000</td>\n",
       "      <td>2016-04-03 23:59:59</td>\n",
       "      <td>Sunday</td>\n",
       "      <td>2016-04-03 23:59:59</td>\n",
       "      <td>23</td>\n",
       "    </tr>\n",
       "    <tr>\n",
       "      <th>3</th>\n",
       "      <td>2873212765</td>\n",
       "      <td>4/6/2016 11:59:59 PM</td>\n",
       "      <td>56.700001</td>\n",
       "      <td>125.002104</td>\n",
       "      <td>16.0</td>\n",
       "      <td>21.450001</td>\n",
       "      <td>True</td>\n",
       "      <td>1459987199000</td>\n",
       "      <td>2016-04-06 23:59:59</td>\n",
       "      <td>Wednesday</td>\n",
       "      <td>2016-04-06 23:59:59</td>\n",
       "      <td>23</td>\n",
       "    </tr>\n",
       "    <tr>\n",
       "      <th>4</th>\n",
       "      <td>2873212765</td>\n",
       "      <td>4/7/2016 11:59:59 PM</td>\n",
       "      <td>57.200001</td>\n",
       "      <td>126.104416</td>\n",
       "      <td>16.0</td>\n",
       "      <td>21.650000</td>\n",
       "      <td>True</td>\n",
       "      <td>1460073599000</td>\n",
       "      <td>2016-04-07 23:59:59</td>\n",
       "      <td>Thursday</td>\n",
       "      <td>2016-04-07 23:59:59</td>\n",
       "      <td>23</td>\n",
       "    </tr>\n",
       "  </tbody>\n",
       "</table>\n",
       "</div>"
      ],
      "text/plain": [
       "           Id                  Date    WeightKg  WeightPounds   Fat  \\\n",
       "0  1503960366  4/5/2016 11:59:59 PM   53.299999    117.506384  22.0   \n",
       "1  1927972279  4/10/2016 6:33:26 PM  129.600006    285.719105  16.0   \n",
       "2  2347167796  4/3/2016 11:59:59 PM   63.400002    139.773078  10.0   \n",
       "3  2873212765  4/6/2016 11:59:59 PM   56.700001    125.002104  16.0   \n",
       "4  2873212765  4/7/2016 11:59:59 PM   57.200001    126.104416  16.0   \n",
       "\n",
       "         BMI  IsManualReport          LogId        DayOfTheWeek        Day  \\\n",
       "0  22.969999            True  1459900799000 2016-04-05 23:59:59    Tuesday   \n",
       "1  46.169998           False  1460313206000 2016-04-10 18:33:26     Sunday   \n",
       "2  24.770000            True  1459727999000 2016-04-03 23:59:59     Sunday   \n",
       "3  21.450001            True  1459987199000 2016-04-06 23:59:59  Wednesday   \n",
       "4  21.650000            True  1460073599000 2016-04-07 23:59:59   Thursday   \n",
       "\n",
       "         ActivityHour  Hour  \n",
       "0 2016-04-05 23:59:59    23  \n",
       "1 2016-04-10 18:33:26    18  \n",
       "2 2016-04-03 23:59:59    23  \n",
       "3 2016-04-06 23:59:59    23  \n",
       "4 2016-04-07 23:59:59    23  "
      ]
     },
     "execution_count": 122,
     "metadata": {},
     "output_type": "execute_result"
    }
   ],
   "source": [
    "weight.head()"
   ]
  },
  {
   "cell_type": "code",
   "execution_count": 124,
   "id": "1bd09e96-2f9c-4195-bb88-d085d11c6258",
   "metadata": {},
   "outputs": [],
   "source": [
    "#observe the correlation between weight kg and BMI "
   ]
  },
  {
   "cell_type": "code",
   "execution_count": 126,
   "id": "c9f84861-fcda-411e-960c-beaf53ade040",
   "metadata": {},
   "outputs": [
    {
     "data": {
      "text/plain": [
       "ActivityHour\n",
       "6      85.800000\n",
       "8      85.400002\n",
       "18    129.600006\n",
       "23     66.182609\n",
       "Name: WeightKg, dtype: float64"
      ]
     },
     "execution_count": 126,
     "metadata": {},
     "output_type": "execute_result"
    }
   ],
   "source": [
    "weight.groupby(weight['ActivityHour'].dt.hour)['WeightKg'].mean()"
   ]
  },
  {
   "cell_type": "code",
   "execution_count": 128,
   "id": "ddefdeb6-b7ef-4191-a94e-13991f215df8",
   "metadata": {},
   "outputs": [
    {
     "data": {
      "text/plain": [
       "ActivityHour\n",
       "6     25.692500\n",
       "8     25.559999\n",
       "18    46.169998\n",
       "23    24.863044\n",
       "Name: BMI, dtype: float64"
      ]
     },
     "execution_count": 128,
     "metadata": {},
     "output_type": "execute_result"
    }
   ],
   "source": [
    "weight.groupby(weight['ActivityHour'].dt.hour)['BMI'].mean()"
   ]
  },
  {
   "cell_type": "code",
   "execution_count": 130,
   "id": "597812ab-53ce-44a8-990f-342d7ecc70db",
   "metadata": {},
   "outputs": [
    {
     "data": {
      "text/plain": [
       "Id\n",
       "1503960366     53.299999\n",
       "1927972279    129.600006\n",
       "2347167796     63.400002\n",
       "2873212765     56.950001\n",
       "2891001357     88.400002\n",
       "4445114986     92.400002\n",
       "4558609924     69.400002\n",
       "4702921684     99.699997\n",
       "6962181067     61.864286\n",
       "8253242879     75.599998\n",
       "8877689391     85.755556\n",
       "Name: WeightKg, dtype: float64"
      ]
     },
     "execution_count": 130,
     "metadata": {},
     "output_type": "execute_result"
    }
   ],
   "source": [
    "weight.groupby(weight['Id'])['WeightKg'].mean()"
   ]
  },
  {
   "cell_type": "code",
   "execution_count": 132,
   "id": "73b4de75-5e0b-454a-9745-d5aca21bd6fd",
   "metadata": {},
   "outputs": [
    {
     "data": {
      "text/plain": [
       "Id\n",
       "1503960366    22.969999\n",
       "1927972279    46.169998\n",
       "2347167796    24.770000\n",
       "2873212765    21.550000\n",
       "2891001357    25.030001\n",
       "4445114986    35.009998\n",
       "4558609924    27.139999\n",
       "4702921684    26.110001\n",
       "6962181067    24.155000\n",
       "8253242879    29.549999\n",
       "8877689391    25.677778\n",
       "Name: BMI, dtype: float64"
      ]
     },
     "execution_count": 132,
     "metadata": {},
     "output_type": "execute_result"
    }
   ],
   "source": [
    "weight.groupby(weight['Id'])['BMI'].mean()"
   ]
  },
  {
   "cell_type": "markdown",
   "id": "eb1b6515-698c-4e54-87e4-65d8a4899c7e",
   "metadata": {},
   "source": [
    "Observing minutes people sleep "
   ]
  },
  {
   "cell_type": "code",
   "execution_count": 135,
   "id": "80d694f9-f6ed-445c-89c0-e7f47897e564",
   "metadata": {},
   "outputs": [],
   "source": [
    "min_sleep = pd.read_csv('minuteSleep_merged.csv')"
   ]
  },
  {
   "cell_type": "code",
   "execution_count": 139,
   "id": "c95da11a-5cec-4deb-ae55-89c17bcdaf5a",
   "metadata": {},
   "outputs": [
    {
     "data": {
      "text/html": [
       "<div>\n",
       "<style scoped>\n",
       "    .dataframe tbody tr th:only-of-type {\n",
       "        vertical-align: middle;\n",
       "    }\n",
       "\n",
       "    .dataframe tbody tr th {\n",
       "        vertical-align: top;\n",
       "    }\n",
       "\n",
       "    .dataframe thead th {\n",
       "        text-align: right;\n",
       "    }\n",
       "</style>\n",
       "<table border=\"1\" class=\"dataframe\">\n",
       "  <thead>\n",
       "    <tr style=\"text-align: right;\">\n",
       "      <th></th>\n",
       "      <th>Id</th>\n",
       "      <th>date</th>\n",
       "      <th>value</th>\n",
       "      <th>logId</th>\n",
       "    </tr>\n",
       "  </thead>\n",
       "  <tbody>\n",
       "    <tr>\n",
       "      <th>0</th>\n",
       "      <td>1503960366</td>\n",
       "      <td>3/13/2016 2:39:30 AM</td>\n",
       "      <td>1</td>\n",
       "      <td>11114919637</td>\n",
       "    </tr>\n",
       "    <tr>\n",
       "      <th>1</th>\n",
       "      <td>1503960366</td>\n",
       "      <td>3/13/2016 2:40:30 AM</td>\n",
       "      <td>1</td>\n",
       "      <td>11114919637</td>\n",
       "    </tr>\n",
       "    <tr>\n",
       "      <th>2</th>\n",
       "      <td>1503960366</td>\n",
       "      <td>3/13/2016 2:41:30 AM</td>\n",
       "      <td>1</td>\n",
       "      <td>11114919637</td>\n",
       "    </tr>\n",
       "    <tr>\n",
       "      <th>3</th>\n",
       "      <td>1503960366</td>\n",
       "      <td>3/13/2016 2:42:30 AM</td>\n",
       "      <td>1</td>\n",
       "      <td>11114919637</td>\n",
       "    </tr>\n",
       "    <tr>\n",
       "      <th>4</th>\n",
       "      <td>1503960366</td>\n",
       "      <td>3/13/2016 2:43:30 AM</td>\n",
       "      <td>1</td>\n",
       "      <td>11114919637</td>\n",
       "    </tr>\n",
       "  </tbody>\n",
       "</table>\n",
       "</div>"
      ],
      "text/plain": [
       "           Id                  date  value        logId\n",
       "0  1503960366  3/13/2016 2:39:30 AM      1  11114919637\n",
       "1  1503960366  3/13/2016 2:40:30 AM      1  11114919637\n",
       "2  1503960366  3/13/2016 2:41:30 AM      1  11114919637\n",
       "3  1503960366  3/13/2016 2:42:30 AM      1  11114919637\n",
       "4  1503960366  3/13/2016 2:43:30 AM      1  11114919637"
      ]
     },
     "execution_count": 139,
     "metadata": {},
     "output_type": "execute_result"
    }
   ],
   "source": [
    "min_sleep.head()"
   ]
  },
  {
   "cell_type": "code",
   "execution_count": 141,
   "id": "e1eaf67b-8355-4a63-acbc-74be995c960e",
   "metadata": {},
   "outputs": [
    {
     "data": {
      "text/plain": [
       "Id       0\n",
       "date     0\n",
       "value    0\n",
       "logId    0\n",
       "dtype: int64"
      ]
     },
     "execution_count": 141,
     "metadata": {},
     "output_type": "execute_result"
    }
   ],
   "source": [
    "min_sleep.isnull().sum()"
   ]
  },
  {
   "cell_type": "code",
   "execution_count": 143,
   "id": "9ef4b788-890b-487e-b0ab-15cf9a9534fb",
   "metadata": {},
   "outputs": [],
   "source": [
    "min_sleep['DayOfTheWeek']= pd.to_datetime(min_sleep['date'], format='%m/%d/%Y %I:%M:%S %p')\n",
    "min_sleep['Day'] = min_sleep['DayOfTheWeek'].dt.day_name()\n",
    "min_sleep['ActivityHour'] = pd.to_datetime(min_sleep['date'], format='%m/%d/%Y %I:%M:%S %p')\n",
    "min_sleep['Hour'] = weight['ActivityHour'].dt.hour"
   ]
  },
  {
   "cell_type": "code",
   "execution_count": 157,
   "id": "087ebd1c-d4db-440f-9c20-78d84bc242e8",
   "metadata": {},
   "outputs": [
    {
     "data": {
      "text/html": [
       "<div>\n",
       "<style scoped>\n",
       "    .dataframe tbody tr th:only-of-type {\n",
       "        vertical-align: middle;\n",
       "    }\n",
       "\n",
       "    .dataframe tbody tr th {\n",
       "        vertical-align: top;\n",
       "    }\n",
       "\n",
       "    .dataframe thead th {\n",
       "        text-align: right;\n",
       "    }\n",
       "</style>\n",
       "<table border=\"1\" class=\"dataframe\">\n",
       "  <thead>\n",
       "    <tr style=\"text-align: right;\">\n",
       "      <th></th>\n",
       "      <th>Id</th>\n",
       "      <th>date</th>\n",
       "      <th>value</th>\n",
       "      <th>logId</th>\n",
       "      <th>DayOfTheWeek</th>\n",
       "      <th>Day</th>\n",
       "      <th>ActivityHour</th>\n",
       "      <th>Hour</th>\n",
       "    </tr>\n",
       "  </thead>\n",
       "  <tbody>\n",
       "    <tr>\n",
       "      <th>0</th>\n",
       "      <td>1503960366</td>\n",
       "      <td>3/13/2016 2:39:30 AM</td>\n",
       "      <td>1</td>\n",
       "      <td>11114919637</td>\n",
       "      <td>2016-03-13 02:39:30</td>\n",
       "      <td>Sunday</td>\n",
       "      <td>2016-03-13 02:39:30</td>\n",
       "      <td>23.0</td>\n",
       "    </tr>\n",
       "    <tr>\n",
       "      <th>1</th>\n",
       "      <td>1503960366</td>\n",
       "      <td>3/13/2016 2:40:30 AM</td>\n",
       "      <td>1</td>\n",
       "      <td>11114919637</td>\n",
       "      <td>2016-03-13 02:40:30</td>\n",
       "      <td>Sunday</td>\n",
       "      <td>2016-03-13 02:40:30</td>\n",
       "      <td>18.0</td>\n",
       "    </tr>\n",
       "    <tr>\n",
       "      <th>2</th>\n",
       "      <td>1503960366</td>\n",
       "      <td>3/13/2016 2:41:30 AM</td>\n",
       "      <td>1</td>\n",
       "      <td>11114919637</td>\n",
       "      <td>2016-03-13 02:41:30</td>\n",
       "      <td>Sunday</td>\n",
       "      <td>2016-03-13 02:41:30</td>\n",
       "      <td>23.0</td>\n",
       "    </tr>\n",
       "    <tr>\n",
       "      <th>3</th>\n",
       "      <td>1503960366</td>\n",
       "      <td>3/13/2016 2:42:30 AM</td>\n",
       "      <td>1</td>\n",
       "      <td>11114919637</td>\n",
       "      <td>2016-03-13 02:42:30</td>\n",
       "      <td>Sunday</td>\n",
       "      <td>2016-03-13 02:42:30</td>\n",
       "      <td>23.0</td>\n",
       "    </tr>\n",
       "    <tr>\n",
       "      <th>4</th>\n",
       "      <td>1503960366</td>\n",
       "      <td>3/13/2016 2:43:30 AM</td>\n",
       "      <td>1</td>\n",
       "      <td>11114919637</td>\n",
       "      <td>2016-03-13 02:43:30</td>\n",
       "      <td>Sunday</td>\n",
       "      <td>2016-03-13 02:43:30</td>\n",
       "      <td>23.0</td>\n",
       "    </tr>\n",
       "  </tbody>\n",
       "</table>\n",
       "</div>"
      ],
      "text/plain": [
       "           Id                  date  value        logId        DayOfTheWeek  \\\n",
       "0  1503960366  3/13/2016 2:39:30 AM      1  11114919637 2016-03-13 02:39:30   \n",
       "1  1503960366  3/13/2016 2:40:30 AM      1  11114919637 2016-03-13 02:40:30   \n",
       "2  1503960366  3/13/2016 2:41:30 AM      1  11114919637 2016-03-13 02:41:30   \n",
       "3  1503960366  3/13/2016 2:42:30 AM      1  11114919637 2016-03-13 02:42:30   \n",
       "4  1503960366  3/13/2016 2:43:30 AM      1  11114919637 2016-03-13 02:43:30   \n",
       "\n",
       "      Day        ActivityHour  Hour  \n",
       "0  Sunday 2016-03-13 02:39:30  23.0  \n",
       "1  Sunday 2016-03-13 02:40:30  18.0  \n",
       "2  Sunday 2016-03-13 02:41:30  23.0  \n",
       "3  Sunday 2016-03-13 02:42:30  23.0  \n",
       "4  Sunday 2016-03-13 02:43:30  23.0  "
      ]
     },
     "execution_count": 157,
     "metadata": {},
     "output_type": "execute_result"
    }
   ],
   "source": [
    "min_sleep.head()"
   ]
  },
  {
   "cell_type": "code",
   "execution_count": 159,
   "id": "322145ce-0e7f-4a39-971f-d943c056726e",
   "metadata": {},
   "outputs": [
    {
     "name": "stdout",
     "output_type": "stream",
     "text": [
      "Id                 23\n",
      "date            54523\n",
      "value               3\n",
      "logId             556\n",
      "DayOfTheWeek    54523\n",
      "Day                 7\n",
      "ActivityHour    54523\n",
      "Hour                4\n",
      "dtype: int64\n"
     ]
    }
   ],
   "source": [
    "print(min_sleep.nunique())"
   ]
  },
  {
   "cell_type": "code",
   "execution_count": 181,
   "id": "793bc52c-1a5c-473f-8af2-66610091d382",
   "metadata": {},
   "outputs": [],
   "source": [
    "sleep = pd.DataFrame(min_sleep)\n",
    "# Calculate duration as the difference between consecutive timestamps in seconds, and convert to minutes\n",
    "min_sleep['Duration'] = min_sleep['ActivityHour'].diff().dt.total_seconds() / 60"
   ]
  },
  {
   "cell_type": "code",
   "execution_count": 187,
   "id": "820075da-a796-4750-81c7-9a3498810f1d",
   "metadata": {},
   "outputs": [
    {
     "name": "stderr",
     "output_type": "stream",
     "text": [
      "C:\\Users\\oyede\\AppData\\Local\\Temp\\ipykernel_6352\\3028467685.py:6: MatplotlibDeprecationWarning: The get_cmap function was deprecated in Matplotlib 3.7 and will be removed two minor releases later. Use ``matplotlib.colormaps[name]`` or ``matplotlib.colormaps.get_cmap(obj)`` instead.\n",
      "  colors = plt.cm.get_cmap('Set3', len(duration_by_id)).colors\n",
      "C:\\Users\\oyede\\AppData\\Local\\Temp\\ipykernel_6352\\3028467685.py:11: MatplotlibDeprecationWarning: The get_cmap function was deprecated in Matplotlib 3.7 and will be removed two minor releases later. Use ``matplotlib.colormaps[name]`` or ``matplotlib.colormaps.get_cmap(obj)`` instead.\n",
      "  colors = plt.cm.get_cmap('Set3', len(duration_by_id)).colors\n"
     ]
    },
    {
     "data": {
      "image/png": "[encoded data removed]",
      "text/plain": [
       "<Figure size 800x800 with 1 Axes>"
      ]
     },
     "metadata": {},
     "output_type": "display_data"
    }
   ],
   "source": [
    "duration_counts = min_sleep['Duration'].value_counts()\n",
    "\n",
    "duration_by_id = min_sleep.groupby('Id')['Duration'].sum()\n",
    "\n",
    "# Define a colormap or list of colors\n",
    "colors = plt.cm.get_cmap('Set3', len(duration_by_id)).colors\n",
    "\n",
    "duration_by_id = duration_by_id[duration_by_id > 0]\n",
    "\n",
    "# Define a colormap or list of colors\n",
    "colors = plt.cm.get_cmap('Set3', len(duration_by_id)).colors\n",
    "\n",
    "# Create the pie chart with different colors for each ID\n",
    "plt.figure(figsize=(8, 8))\n",
    "plt.pie(duration_by_id, labels=duration_by_id.index, autopct='%1.1f%%', startangle=140, colors=colors)\n",
    "plt.title('Distribution of Sleep Durations by ID')\n",
    "plt.show()"
   ]
  },
  {
   "cell_type": "code",
   "execution_count": null,
   "id": "c9cfc1c0-19a2-491b-9b88-b87d4ffdc738",
   "metadata": {},
   "outputs": [],
   "source": []
  }
 ],
 "metadata": {
  "kernelspec": {
   "display_name": "Python 3 (ipykernel)",
   "language": "python",
   "name": "python3"
  },
  "language_info": {
   "codemirror_mode": {
    "name": "ipython",
    "version": 3
   },
   "file_extension": ".py",
   "mimetype": "text/x-python",
   "name": "python",
   "nbconvert_exporter": "python",
   "pygments_lexer": "ipython3",
   "version": "3.12.4"
  }
 },
 "nbformat": 4,
 "nbformat_minor": 5
}
